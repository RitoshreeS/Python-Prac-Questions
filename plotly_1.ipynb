{
  "nbformat": 4,
  "nbformat_minor": 0,
  "metadata": {
    "colab": {
      "provenance": []
    },
    "kernelspec": {
      "name": "python3",
      "display_name": "Python 3"
    },
    "language_info": {
      "name": "python"
    }
  },
  "cells": [
    {
      "cell_type": "code",
      "execution_count": null,
      "metadata": {
        "colab": {
          "base_uri": "https://localhost:8080/"
        },
        "id": "fMNlADB-H2cl",
        "outputId": "26db8c50-ddf1-4a70-d974-d75364cfc2b5"
      },
      "outputs": [
        {
          "output_type": "stream",
          "name": "stdout",
          "text": [
            "Mounted at /content/drive\n"
          ]
        }
      ],
      "source": [
        "from google.colab import drive\n",
        "drive.mount('/content/drive')\n",
        "import os\n",
        "os.chdir('/content/drive/My Drive/Machine Learning')"
      ]
    },
    {
      "cell_type": "code",
      "source": [
        "import pandas as pd\n",
        "import plotly.express as px"
      ],
      "metadata": {
        "id": "ozdGuBNBJPW9"
      },
      "execution_count": null,
      "outputs": []
    },
    {
      "cell_type": "code",
      "source": [
        "df=pd.read_csv(\"StudentsPerformance[1].csv\")\n",
        "df"
      ],
      "metadata": {
        "id": "FnqymJXaJTPy"
      },
      "execution_count": null,
      "outputs": []
    },
    {
      "cell_type": "markdown",
      "source": [
        "# Line Plot"
      ],
      "metadata": {
        "id": "_KTvjwSoJaTj"
      }
    },
    {
      "cell_type": "markdown",
      "source": [
        "* A line plot is a graphical display of data along a number line with Xs or dots recorded above the responses to indicate the number of occurrences a response appears in the data set.\n",
        "* The Xs or dots represent the frequency.\n",
        "* A line plot will have an outlier. An outlier is a number that is much greater or much less than the other numbers in the data set.\n",
        "* A line plot consists of a horizontal line which is the x-axis with equal intervals.\n",
        "* Line graphs are used to track changes over short and long period of times.\n",
        "\n",
        "\n",
        "**Line plot is a type of chart that displays information as a series of data points connected by straight line segments. Line plots are generally used to visualize the directional movement of one or more data over time.**"
      ],
      "metadata": {
        "id": "jcMyG7ZaMFql"
      }
    },
    {
      "cell_type": "markdown",
      "source": [
        "# Bar Plot"
      ],
      "metadata": {
        "id": "EajFFGC5Jj4q"
      }
    },
    {
      "cell_type": "markdown",
      "source": [
        "*Bar Plot is used to represent categorical data in the form of vertical and horizontal bars, where the lengths of these bars are proportional to the values they contain.*"
      ],
      "metadata": {
        "id": "XveHdk69P5t8"
      }
    },
    {
      "cell_type": "markdown",
      "source": [
        "# Box plot"
      ],
      "metadata": {
        "id": "9E3Bcvg8Jpe7"
      }
    },
    {
      "cell_type": "code",
      "source": [
        "fig = px.box(df,y='writing score',x='gender',color='gender')\n",
        "fig.show()"
      ],
      "metadata": {
        "colab": {
          "base_uri": "https://localhost:8080/",
          "height": 542
        },
        "id": "dnO4uLOuKMPV",
        "outputId": "faddab0f-8aa8-42f9-9473-f36cc44865ed"
      },
      "execution_count": null,
      "outputs": [
        {
          "output_type": "display_data",
          "data": {
            "text/html": [
              "<html>\n",
              "<head><meta charset=\"utf-8\" /></head>\n",
              "<body>\n",
              "    <div>\n",
              "            <script src=\"https://cdnjs.cloudflare.com/ajax/libs/mathjax/2.7.5/MathJax.js?config=TeX-AMS-MML_SVG\"></script><script type=\"text/javascript\">if (window.MathJax) {MathJax.Hub.Config({SVG: {font: \"STIX-Web\"}});}</script>\n",
              "                <script type=\"text/javascript\">window.PlotlyConfig = {MathJaxConfig: 'local'};</script>\n",
              "        <script src=\"https://cdn.plot.ly/plotly-latest.min.js\"></script>    \n",
              "            <div id=\"c2380146-ba74-4ca0-bcb4-c81d6fb59dab\" class=\"plotly-graph-div\" style=\"height:525px; width:100%;\"></div>\n",
              "            <script type=\"text/javascript\">\n",
              "                \n",
              "                    window.PLOTLYENV=window.PLOTLYENV || {};\n",
              "                    \n",
              "                if (document.getElementById(\"c2380146-ba74-4ca0-bcb4-c81d6fb59dab\")) {\n",
              "                    Plotly.newPlot(\n",
              "                        'c2380146-ba74-4ca0-bcb4-c81d6fb59dab',\n",
              "                        [{\"alignmentgroup\": \"True\", \"hoverlabel\": {\"namelength\": 0}, \"hovertemplate\": \"gender=%{x}<br>writing score=%{y}\", \"legendgroup\": \"gender=female\", \"marker\": {\"color\": \"#636efa\"}, \"name\": \"gender=female\", \"notched\": false, \"offsetgroup\": \"gender=female\", \"orientation\": \"v\", \"showlegend\": true, \"type\": \"box\", \"x\": [\"female\", \"female\", \"female\", \"female\", \"female\", \"female\", \"female\", \"female\", \"female\", \"female\", \"female\", \"female\", \"female\", \"female\", \"female\", \"female\", \"female\", \"female\", \"female\", \"female\", \"female\", \"female\", \"female\", \"female\", \"female\", \"female\", \"female\", \"female\", \"female\", \"female\", \"female\", \"female\", \"female\", \"female\", \"female\", \"female\", \"female\", \"female\", \"female\", \"female\", \"female\", \"female\", \"female\", \"female\", \"female\", \"female\", \"female\", \"female\", \"female\", \"female\", \"female\", \"female\", \"female\", \"female\", \"female\", \"female\", \"female\", \"female\", \"female\", \"female\", \"female\", \"female\", \"female\", \"female\", \"female\", \"female\", \"female\", \"female\", \"female\", \"female\", \"female\", \"female\", \"female\", \"female\", \"female\", \"female\", \"female\", \"female\", \"female\", \"female\", \"female\", \"female\", \"female\", \"female\", \"female\", \"female\", \"female\", \"female\", \"female\", \"female\", \"female\", \"female\", \"female\", \"female\", \"female\", \"female\", \"female\", \"female\", \"female\", \"female\", \"female\", \"female\", \"female\", \"female\", \"female\", \"female\", \"female\", \"female\", \"female\", \"female\", \"female\", \"female\", \"female\", \"female\", \"female\", \"female\", \"female\", \"female\", \"female\", \"female\", \"female\", \"female\", \"female\", \"female\", \"female\", \"female\", \"female\", \"female\", \"female\", \"female\", \"female\", \"female\", \"female\", \"female\", \"female\", \"female\", \"female\", \"female\", \"female\", \"female\", \"female\", \"female\", \"female\", \"female\", \"female\", \"female\", \"female\", \"female\", \"female\", \"female\", \"female\", \"female\", \"female\", \"female\", \"female\", \"female\", \"female\", \"female\", \"female\", \"female\", \"female\", \"female\", \"female\", \"female\", \"female\", \"female\", \"female\", \"female\", \"female\", \"female\", \"female\", \"female\", \"female\", \"female\", \"female\", \"female\", \"female\", \"female\", \"female\", \"female\", \"female\", \"female\", \"female\", \"female\", \"female\", \"female\", \"female\", \"female\", \"female\", \"female\", \"female\", \"female\", \"female\", \"female\", \"female\", \"female\", \"female\", \"female\", \"female\", \"female\", \"female\", \"female\", \"female\", \"female\", \"female\", \"female\", \"female\", \"female\", \"female\", \"female\", \"female\", \"female\", \"female\", \"female\", \"female\", \"female\", \"female\", \"female\", \"female\", \"female\", \"female\", \"female\", \"female\", \"female\", \"female\", \"female\", \"female\", \"female\", \"female\", \"female\", \"female\", \"female\", \"female\", \"female\", \"female\", \"female\", \"female\", \"female\", \"female\", \"female\", \"female\", \"female\", \"female\", \"female\", \"female\", \"female\", \"female\", \"female\", \"female\", \"female\", \"female\", \"female\", \"female\", \"female\", \"female\", \"female\", \"female\", \"female\", \"female\", \"female\", \"female\", \"female\", \"female\", \"female\", \"female\", \"female\", \"female\", \"female\", \"female\", \"female\", \"female\", \"female\", \"female\", \"female\", \"female\", \"female\", \"female\", \"female\", \"female\", \"female\", \"female\", \"female\", \"female\", \"female\", \"female\", \"female\", \"female\", \"female\", \"female\", \"female\", \"female\", \"female\", \"female\", \"female\", \"female\", \"female\", \"female\", \"female\", \"female\", \"female\", \"female\", \"female\", \"female\", \"female\", \"female\", \"female\", \"female\", \"female\", \"female\", \"female\", \"female\", \"female\", \"female\", \"female\", \"female\", \"female\", \"female\", \"female\", \"female\", \"female\", \"female\", \"female\", \"female\", \"female\", \"female\", \"female\", \"female\", \"female\", \"female\", \"female\", \"female\", \"female\", \"female\", \"female\", \"female\", \"female\", \"female\", \"female\", \"female\", \"female\", \"female\", \"female\", \"female\", \"female\", \"female\", \"female\", \"female\", \"female\", \"female\", \"female\", \"female\", \"female\", \"female\", \"female\", \"female\", \"female\", \"female\", \"female\", \"female\", \"female\", \"female\", \"female\", \"female\", \"female\", \"female\", \"female\", \"female\", \"female\", \"female\", \"female\", \"female\", \"female\", \"female\", \"female\", \"female\", \"female\", \"female\", \"female\", \"female\", \"female\", \"female\", \"female\", \"female\", \"female\", \"female\", \"female\", \"female\", \"female\", \"female\", \"female\", \"female\", \"female\", \"female\", \"female\", \"female\", \"female\", \"female\", \"female\", \"female\", \"female\", \"female\", \"female\", \"female\", \"female\", \"female\", \"female\", \"female\", \"female\", \"female\", \"female\", \"female\", \"female\", \"female\", \"female\", \"female\", \"female\", \"female\", \"female\", \"female\", \"female\", \"female\", \"female\", \"female\", \"female\", \"female\", \"female\", \"female\", \"female\", \"female\", \"female\", \"female\", \"female\", \"female\", \"female\", \"female\", \"female\", \"female\", \"female\", \"female\", \"female\", \"female\", \"female\", \"female\", \"female\", \"female\", \"female\", \"female\", \"female\", \"female\", \"female\", \"female\", \"female\", \"female\", \"female\", \"female\", \"female\", \"female\", \"female\", \"female\", \"female\", \"female\", \"female\", \"female\", \"female\", \"female\", \"female\", \"female\", \"female\", \"female\", \"female\", \"female\", \"female\", \"female\", \"female\", \"female\", \"female\", \"female\", \"female\", \"female\", \"female\", \"female\", \"female\", \"female\", \"female\", \"female\", \"female\", \"female\", \"female\", \"female\", \"female\", \"female\", \"female\", \"female\", \"female\", \"female\", \"female\", \"female\", \"female\", \"female\", \"female\", \"female\", \"female\", \"female\", \"female\", \"female\", \"female\", \"female\", \"female\", \"female\", \"female\", \"female\", \"female\", \"female\", \"female\", \"female\", \"female\", \"female\", \"female\"], \"x0\": \" \", \"xaxis\": \"x\", \"y\": [74, 88, 93, 78, 92, 50, 73, 58, 78, 28, 61, 70, 73, 75, 75, 74, 61, 65, 83, 59, 88, 68, 65, 54, 62, 76, 76, 87, 43, 86, 10, 71, 59, 74, 57, 73, 48, 72, 68, 50, 82, 88, 74, 67, 82, 74, 92, 70, 62, 62, 89, 72, 100, 70, 72, 98, 54, 100, 82, 79, 61, 65, 89, 93, 86, 51, 84, 67, 71, 64, 54, 33, 81, 66, 88, 78, 87, 85, 91, 100, 78, 78, 70, 81, 70, 54, 87, 58, 77, 62, 100, 66, 47, 70, 87, 69, 66, 85, 55, 76, 86, 77, 68, 76, 66, 60, 88, 39, 74, 62, 73, 54, 71, 94, 83, 74, 83, 55, 68, 62, 83, 70, 70, 68, 78, 81, 77, 51, 90, 81, 77, 95, 70, 58, 71, 93, 75, 80, 84, 78, 46, 82, 75, 81, 83, 67, 52, 80, 69, 75, 91, 63, 84, 79, 80, 53, 43, 94, 51, 95, 66, 27, 60, 63, 74, 75, 95, 69, 80, 57, 70, 70, 69, 89, 59, 58, 32, 58, 85, 70, 96, 73, 82, 100, 77, 83, 45, 43, 75, 70, 67, 64, 77, 77, 63, 95, 67, 55, 100, 62, 68, 77, 56, 74, 79, 93, 64, 67, 80, 62, 70, 50, 79, 80, 69, 76, 77, 85, 97, 74, 62, 89, 100, 76, 91, 91, 38, 85, 90, 74, 84, 61, 91, 83, 70, 56, 54, 74, 76, 70, 90, 90, 68, 52, 76, 68, 82, 92, 92, 54, 80, 87, 62, 94, 85, 84, 73, 78, 79, 84, 43, 47, 70, 73, 53, 94, 83, 62, 79, 89, 66, 97, 64, 50, 33, 79, 70, 79, 74, 80, 100, 78, 56, 64, 71, 89, 58, 68, 96, 80, 78, 80, 77, 76, 73, 62, 65, 65, 73, 99, 72, 73, 81, 63, 30, 80, 82, 54, 62, 65, 66, 74, 93, 72, 38, 54, 62, 55, 81, 85, 81, 88, 73, 90, 79, 80, 81, 65, 68, 55, 81, 76, 98, 74, 79, 67, 58, 69, 67, 60, 71, 87, 68, 76, 84, 78, 66, 76, 76, 74, 44, 100, 53, 78, 81, 73, 56, 86, 90, 70, 79, 82, 72, 67, 64, 58, 85, 99, 74, 87, 99, 74, 70, 88, 77, 84, 80, 94, 57, 73, 56, 82, 72, 59, 85, 92, 65, 64, 54, 63, 72, 77, 75, 72, 79, 55, 70, 43, 82, 57, 84, 82, 62, 44, 77, 32, 61, 60, 70, 51, 73, 81, 57, 95, 87, 78, 75, 40, 67, 83, 64, 68, 88, 92, 93, 82, 52, 70, 76, 81, 57, 89, 89, 74, 79, 73, 46, 36, 64, 68, 63, 93, 96, 81, 53, 87, 80, 76, 61, 80, 74, 70, 71, 54, 80, 95, 74, 91, 85, 73, 69, 38, 79, 82, 74, 41, 100, 84, 91, 72, 82, 66, 66, 55, 66, 52, 80, 46, 65, 71, 51, 57, 96, 61, 58, 60, 73, 83, 72, 69, 100, 59, 64, 53, 100, 75, 72, 67, 80, 100, 60, 61, 67, 77, 94, 23, 91, 82, 51, 45, 83, 78, 76, 74, 95, 65, 77, 86], \"y0\": \" \", \"yaxis\": \"y\"}, {\"alignmentgroup\": \"True\", \"hoverlabel\": {\"namelength\": 0}, \"hovertemplate\": \"gender=%{x}<br>writing score=%{y}\", \"legendgroup\": \"gender=male\", \"marker\": {\"color\": \"#EF553B\"}, \"name\": \"gender=male\", \"notched\": false, \"offsetgroup\": \"gender=male\", \"orientation\": \"v\", \"showlegend\": true, \"type\": \"box\", \"x\": [\"male\", \"male\", \"male\", \"male\", \"male\", \"male\", \"male\", \"male\", \"male\", \"male\", \"male\", \"male\", \"male\", \"male\", \"male\", \"male\", \"male\", \"male\", \"male\", \"male\", \"male\", \"male\", \"male\", \"male\", \"male\", \"male\", \"male\", \"male\", \"male\", \"male\", \"male\", \"male\", \"male\", \"male\", \"male\", \"male\", \"male\", \"male\", \"male\", \"male\", \"male\", \"male\", \"male\", \"male\", \"male\", \"male\", \"male\", \"male\", \"male\", \"male\", \"male\", \"male\", \"male\", \"male\", \"male\", \"male\", \"male\", \"male\", \"male\", \"male\", \"male\", \"male\", \"male\", \"male\", \"male\", \"male\", \"male\", \"male\", \"male\", \"male\", \"male\", \"male\", \"male\", \"male\", \"male\", \"male\", \"male\", \"male\", \"male\", \"male\", \"male\", \"male\", \"male\", \"male\", \"male\", \"male\", \"male\", \"male\", \"male\", \"male\", \"male\", \"male\", \"male\", \"male\", \"male\", \"male\", \"male\", \"male\", \"male\", \"male\", \"male\", \"male\", \"male\", \"male\", \"male\", \"male\", \"male\", \"male\", \"male\", \"male\", \"male\", \"male\", \"male\", \"male\", \"male\", \"male\", \"male\", \"male\", \"male\", \"male\", \"male\", \"male\", \"male\", \"male\", \"male\", \"male\", \"male\", \"male\", \"male\", \"male\", \"male\", \"male\", \"male\", \"male\", \"male\", \"male\", \"male\", \"male\", \"male\", \"male\", \"male\", \"male\", \"male\", \"male\", \"male\", \"male\", \"male\", \"male\", \"male\", \"male\", \"male\", \"male\", \"male\", \"male\", \"male\", \"male\", \"male\", \"male\", \"male\", \"male\", \"male\", \"male\", \"male\", \"male\", \"male\", \"male\", \"male\", \"male\", \"male\", \"male\", \"male\", \"male\", \"male\", \"male\", \"male\", \"male\", \"male\", \"male\", \"male\", \"male\", \"male\", \"male\", \"male\", \"male\", \"male\", \"male\", \"male\", \"male\", \"male\", \"male\", \"male\", \"male\", \"male\", \"male\", \"male\", \"male\", \"male\", \"male\", \"male\", \"male\", \"male\", \"male\", \"male\", \"male\", \"male\", \"male\", \"male\", \"male\", \"male\", \"male\", \"male\", \"male\", \"male\", \"male\", \"male\", \"male\", \"male\", \"male\", \"male\", \"male\", \"male\", \"male\", \"male\", \"male\", \"male\", \"male\", \"male\", \"male\", \"male\", \"male\", \"male\", \"male\", \"male\", \"male\", \"male\", \"male\", \"male\", \"male\", \"male\", \"male\", \"male\", \"male\", \"male\", \"male\", \"male\", \"male\", \"male\", \"male\", \"male\", \"male\", \"male\", \"male\", \"male\", \"male\", \"male\", \"male\", \"male\", \"male\", \"male\", \"male\", \"male\", \"male\", \"male\", \"male\", \"male\", \"male\", \"male\", \"male\", \"male\", \"male\", \"male\", \"male\", \"male\", \"male\", \"male\", \"male\", \"male\", \"male\", \"male\", \"male\", \"male\", \"male\", \"male\", \"male\", \"male\", \"male\", \"male\", \"male\", \"male\", \"male\", \"male\", \"male\", \"male\", \"male\", \"male\", \"male\", \"male\", \"male\", \"male\", \"male\", \"male\", \"male\", \"male\", \"male\", \"male\", \"male\", \"male\", \"male\", \"male\", \"male\", \"male\", \"male\", \"male\", \"male\", \"male\", \"male\", \"male\", \"male\", \"male\", \"male\", \"male\", \"male\", \"male\", \"male\", \"male\", \"male\", \"male\", \"male\", \"male\", \"male\", \"male\", \"male\", \"male\", \"male\", \"male\", \"male\", \"male\", \"male\", \"male\", \"male\", \"male\", \"male\", \"male\", \"male\", \"male\", \"male\", \"male\", \"male\", \"male\", \"male\", \"male\", \"male\", \"male\", \"male\", \"male\", \"male\", \"male\", \"male\", \"male\", \"male\", \"male\", \"male\", \"male\", \"male\", \"male\", \"male\", \"male\", \"male\", \"male\", \"male\", \"male\", \"male\", \"male\", \"male\", \"male\", \"male\", \"male\", \"male\", \"male\", \"male\", \"male\", \"male\", \"male\", \"male\", \"male\", \"male\", \"male\", \"male\", \"male\", \"male\", \"male\", \"male\", \"male\", \"male\", \"male\", \"male\", \"male\", \"male\", \"male\", \"male\", \"male\", \"male\", \"male\", \"male\", \"male\", \"male\", \"male\", \"male\", \"male\", \"male\", \"male\", \"male\", \"male\", \"male\", \"male\", \"male\", \"male\", \"male\", \"male\", \"male\", \"male\", \"male\", \"male\", \"male\", \"male\", \"male\", \"male\", \"male\", \"male\", \"male\", \"male\", \"male\", \"male\", \"male\", \"male\", \"male\", \"male\", \"male\", \"male\", \"male\", \"male\", \"male\", \"male\", \"male\", \"male\", \"male\", \"male\", \"male\", \"male\", \"male\", \"male\", \"male\", \"male\", \"male\", \"male\", \"male\", \"male\", \"male\", \"male\", \"male\", \"male\", \"male\", \"male\", \"male\", \"male\", \"male\", \"male\", \"male\", \"male\", \"male\", \"male\", \"male\", \"male\", \"male\", \"male\", \"male\", \"male\", \"male\", \"male\", \"male\", \"male\", \"male\"], \"x0\": \" \", \"xaxis\": \"x\", \"y\": [44, 75, 39, 67, 52, 43, 70, 86, 46, 63, 53, 80, 72, 55, 65, 38, 82, 79, 57, 54, 66, 57, 82, 48, 68, 42, 75, 49, 58, 72, 34, 55, 61, 37, 56, 63, 56, 41, 38, 22, 81, 45, 54, 63, 34, 36, 71, 50, 82, 62, 67, 74, 47, 90, 64, 49, 47, 74, 92, 56, 73, 67, 74, 74, 82, 40, 70, 75, 48, 41, 56, 69, 47, 78, 75, 66, 93, 69, 68, 47, 61, 60, 64, 74, 52, 49, 51, 74, 78, 75, 49, 65, 65, 68, 45, 79, 62, 52, 65, 51, 69, 42, 78, 62, 76, 79, 27, 56, 81, 75, 70, 56, 73, 75, 54, 64, 66, 42, 78, 84, 77, 67, 51, 80, 66, 43, 69, 71, 74, 53, 49, 72, 52, 77, 78, 68, 41, 61, 42, 76, 73, 57, 42, 46, 82, 88, 76, 77, 68, 70, 57, 80, 60, 43, 68, 50, 75, 81, 52, 64, 69, 81, 44, 57, 68, 65, 78, 69, 62, 19, 77, 61, 35, 53, 81, 69, 43, 52, 67, 67, 57, 66, 76, 52, 61, 61, 78, 58, 60, 53, 61, 71, 72, 41, 62, 95, 71, 75, 59, 67, 56, 41, 57, 54, 43, 63, 85, 78, 60, 67, 69, 68, 67, 62, 54, 34, 86, 65, 53, 54, 59, 55, 66, 53, 64, 73, 51, 82, 73, 60, 80, 42, 72, 49, 47, 48, 68, 55, 45, 62, 65, 76, 66, 72, 67, 68, 61, 46, 71, 56, 57, 82, 66, 72, 54, 66, 54, 77, 73, 43, 52, 52, 57, 50, 49, 59, 60, 58, 68, 58, 71, 86, 68, 80, 80, 64, 69, 65, 88, 64, 40, 66, 62, 92, 46, 45, 47, 67, 70, 92, 53, 52, 54, 50, 64, 15, 48, 51, 90, 62, 63, 91, 83, 84, 68, 56, 52, 86, 99, 63, 46, 46, 70, 65, 80, 64, 74, 51, 60, 53, 64, 61, 85, 73, 63, 63, 61, 77, 50, 78, 60, 60, 54, 68, 68, 73, 44, 83, 59, 87, 65, 36, 52, 79, 90, 84, 72, 80, 59, 42, 41, 71, 57, 37, 43, 44, 59, 84, 73, 55, 72, 47, 74, 71, 68, 86, 68, 65, 75, 53, 52, 72, 77, 86, 59, 60, 57, 49, 74, 60, 82, 79, 61, 69, 77, 70, 54, 68, 73, 74, 69, 51, 36, 49, 76, 87, 76, 51, 58, 53, 58, 45, 57, 53, 51, 76, 84, 85, 50, 69, 67, 61, 55, 65, 46, 72, 38, 91, 88, 52, 41, 72, 51, 47, 78, 82, 66, 84, 54, 66, 44, 59, 48, 75, 27, 63, 89, 77, 51, 70, 48, 100, 91, 67, 66, 69, 60, 52, 44, 70, 62, 73, 74, 90, 58, 53, 85, 69, 72, 64, 61, 80, 52, 71, 54, 62, 81, 71, 58, 64, 60, 69, 60, 58, 48, 78, 86, 54, 76, 75, 62, 55], \"y0\": \" \", \"yaxis\": \"y\"}],\n",
              "                        {\"boxmode\": \"group\", \"legend\": {\"tracegroupgap\": 0}, \"margin\": {\"t\": 60}, \"template\": {\"data\": {\"bar\": [{\"error_x\": {\"color\": \"#2a3f5f\"}, \"error_y\": {\"color\": \"#2a3f5f\"}, \"marker\": {\"line\": {\"color\": \"#E5ECF6\", \"width\": 0.5}}, \"type\": \"bar\"}], \"barpolar\": [{\"marker\": {\"line\": {\"color\": \"#E5ECF6\", \"width\": 0.5}}, \"type\": \"barpolar\"}], \"carpet\": [{\"aaxis\": {\"endlinecolor\": \"#2a3f5f\", \"gridcolor\": \"white\", \"linecolor\": \"white\", \"minorgridcolor\": \"white\", \"startlinecolor\": \"#2a3f5f\"}, \"baxis\": {\"endlinecolor\": \"#2a3f5f\", \"gridcolor\": \"white\", \"linecolor\": \"white\", \"minorgridcolor\": \"white\", \"startlinecolor\": \"#2a3f5f\"}, \"type\": \"carpet\"}], \"choropleth\": [{\"colorbar\": {\"outlinewidth\": 0, \"ticks\": \"\"}, \"type\": \"choropleth\"}], \"contour\": [{\"colorbar\": {\"outlinewidth\": 0, \"ticks\": \"\"}, \"colorscale\": [[0.0, \"#0d0887\"], [0.1111111111111111, \"#46039f\"], [0.2222222222222222, \"#7201a8\"], [0.3333333333333333, \"#9c179e\"], [0.4444444444444444, \"#bd3786\"], [0.5555555555555556, \"#d8576b\"], [0.6666666666666666, \"#ed7953\"], [0.7777777777777778, \"#fb9f3a\"], [0.8888888888888888, \"#fdca26\"], [1.0, \"#f0f921\"]], \"type\": \"contour\"}], \"contourcarpet\": [{\"colorbar\": {\"outlinewidth\": 0, \"ticks\": \"\"}, \"type\": \"contourcarpet\"}], \"heatmap\": [{\"colorbar\": {\"outlinewidth\": 0, \"ticks\": \"\"}, \"colorscale\": [[0.0, \"#0d0887\"], [0.1111111111111111, \"#46039f\"], [0.2222222222222222, \"#7201a8\"], [0.3333333333333333, \"#9c179e\"], [0.4444444444444444, \"#bd3786\"], [0.5555555555555556, \"#d8576b\"], [0.6666666666666666, \"#ed7953\"], [0.7777777777777778, \"#fb9f3a\"], [0.8888888888888888, \"#fdca26\"], [1.0, \"#f0f921\"]], \"type\": \"heatmap\"}], \"heatmapgl\": [{\"colorbar\": {\"outlinewidth\": 0, \"ticks\": \"\"}, \"colorscale\": [[0.0, \"#0d0887\"], [0.1111111111111111, \"#46039f\"], [0.2222222222222222, \"#7201a8\"], [0.3333333333333333, \"#9c179e\"], [0.4444444444444444, \"#bd3786\"], [0.5555555555555556, \"#d8576b\"], [0.6666666666666666, \"#ed7953\"], [0.7777777777777778, \"#fb9f3a\"], [0.8888888888888888, \"#fdca26\"], [1.0, \"#f0f921\"]], \"type\": \"heatmapgl\"}], \"histogram\": [{\"marker\": {\"colorbar\": {\"outlinewidth\": 0, \"ticks\": \"\"}}, \"type\": \"histogram\"}], \"histogram2d\": [{\"colorbar\": {\"outlinewidth\": 0, \"ticks\": \"\"}, \"colorscale\": [[0.0, \"#0d0887\"], [0.1111111111111111, \"#46039f\"], [0.2222222222222222, \"#7201a8\"], [0.3333333333333333, \"#9c179e\"], [0.4444444444444444, \"#bd3786\"], [0.5555555555555556, \"#d8576b\"], [0.6666666666666666, \"#ed7953\"], [0.7777777777777778, \"#fb9f3a\"], [0.8888888888888888, \"#fdca26\"], [1.0, \"#f0f921\"]], \"type\": \"histogram2d\"}], \"histogram2dcontour\": [{\"colorbar\": {\"outlinewidth\": 0, \"ticks\": \"\"}, \"colorscale\": [[0.0, \"#0d0887\"], [0.1111111111111111, \"#46039f\"], [0.2222222222222222, \"#7201a8\"], [0.3333333333333333, \"#9c179e\"], [0.4444444444444444, \"#bd3786\"], [0.5555555555555556, \"#d8576b\"], [0.6666666666666666, \"#ed7953\"], [0.7777777777777778, \"#fb9f3a\"], [0.8888888888888888, \"#fdca26\"], [1.0, \"#f0f921\"]], \"type\": \"histogram2dcontour\"}], \"mesh3d\": [{\"colorbar\": {\"outlinewidth\": 0, \"ticks\": \"\"}, \"type\": \"mesh3d\"}], \"parcoords\": [{\"line\": {\"colorbar\": {\"outlinewidth\": 0, \"ticks\": \"\"}}, \"type\": \"parcoords\"}], \"pie\": [{\"automargin\": true, \"type\": \"pie\"}], \"scatter\": [{\"marker\": {\"colorbar\": {\"outlinewidth\": 0, \"ticks\": \"\"}}, \"type\": \"scatter\"}], \"scatter3d\": [{\"line\": {\"colorbar\": {\"outlinewidth\": 0, \"ticks\": \"\"}}, \"marker\": {\"colorbar\": {\"outlinewidth\": 0, \"ticks\": \"\"}}, \"type\": \"scatter3d\"}], \"scattercarpet\": [{\"marker\": {\"colorbar\": {\"outlinewidth\": 0, \"ticks\": \"\"}}, \"type\": \"scattercarpet\"}], \"scattergeo\": [{\"marker\": {\"colorbar\": {\"outlinewidth\": 0, \"ticks\": \"\"}}, \"type\": \"scattergeo\"}], \"scattergl\": [{\"marker\": {\"colorbar\": {\"outlinewidth\": 0, \"ticks\": \"\"}}, \"type\": \"scattergl\"}], \"scattermapbox\": [{\"marker\": {\"colorbar\": {\"outlinewidth\": 0, \"ticks\": \"\"}}, \"type\": \"scattermapbox\"}], \"scatterpolar\": [{\"marker\": {\"colorbar\": {\"outlinewidth\": 0, \"ticks\": \"\"}}, \"type\": \"scatterpolar\"}], \"scatterpolargl\": [{\"marker\": {\"colorbar\": {\"outlinewidth\": 0, \"ticks\": \"\"}}, \"type\": \"scatterpolargl\"}], \"scatterternary\": [{\"marker\": {\"colorbar\": {\"outlinewidth\": 0, \"ticks\": \"\"}}, \"type\": \"scatterternary\"}], \"surface\": [{\"colorbar\": {\"outlinewidth\": 0, \"ticks\": \"\"}, \"colorscale\": [[0.0, \"#0d0887\"], [0.1111111111111111, \"#46039f\"], [0.2222222222222222, \"#7201a8\"], [0.3333333333333333, \"#9c179e\"], [0.4444444444444444, \"#bd3786\"], [0.5555555555555556, \"#d8576b\"], [0.6666666666666666, \"#ed7953\"], [0.7777777777777778, \"#fb9f3a\"], [0.8888888888888888, \"#fdca26\"], [1.0, \"#f0f921\"]], \"type\": \"surface\"}], \"table\": [{\"cells\": {\"fill\": {\"color\": \"#EBF0F8\"}, \"line\": {\"color\": \"white\"}}, \"header\": {\"fill\": {\"color\": \"#C8D4E3\"}, \"line\": {\"color\": \"white\"}}, \"type\": \"table\"}]}, \"layout\": {\"annotationdefaults\": {\"arrowcolor\": \"#2a3f5f\", \"arrowhead\": 0, \"arrowwidth\": 1}, \"coloraxis\": {\"colorbar\": {\"outlinewidth\": 0, \"ticks\": \"\"}}, \"colorscale\": {\"diverging\": [[0, \"#8e0152\"], [0.1, \"#c51b7d\"], [0.2, \"#de77ae\"], [0.3, \"#f1b6da\"], [0.4, \"#fde0ef\"], [0.5, \"#f7f7f7\"], [0.6, \"#e6f5d0\"], [0.7, \"#b8e186\"], [0.8, \"#7fbc41\"], [0.9, \"#4d9221\"], [1, \"#276419\"]], \"sequential\": [[0.0, \"#0d0887\"], [0.1111111111111111, \"#46039f\"], [0.2222222222222222, \"#7201a8\"], [0.3333333333333333, \"#9c179e\"], [0.4444444444444444, \"#bd3786\"], [0.5555555555555556, \"#d8576b\"], [0.6666666666666666, \"#ed7953\"], [0.7777777777777778, \"#fb9f3a\"], [0.8888888888888888, \"#fdca26\"], [1.0, \"#f0f921\"]], \"sequentialminus\": [[0.0, \"#0d0887\"], [0.1111111111111111, \"#46039f\"], [0.2222222222222222, \"#7201a8\"], [0.3333333333333333, \"#9c179e\"], [0.4444444444444444, \"#bd3786\"], [0.5555555555555556, \"#d8576b\"], [0.6666666666666666, \"#ed7953\"], [0.7777777777777778, \"#fb9f3a\"], [0.8888888888888888, \"#fdca26\"], [1.0, \"#f0f921\"]]}, \"colorway\": [\"#636efa\", \"#EF553B\", \"#00cc96\", \"#ab63fa\", \"#FFA15A\", \"#19d3f3\", \"#FF6692\", \"#B6E880\", \"#FF97FF\", \"#FECB52\"], \"font\": {\"color\": \"#2a3f5f\"}, \"geo\": {\"bgcolor\": \"white\", \"lakecolor\": \"white\", \"landcolor\": \"#E5ECF6\", \"showlakes\": true, \"showland\": true, \"subunitcolor\": \"white\"}, \"hoverlabel\": {\"align\": \"left\"}, \"hovermode\": \"closest\", \"mapbox\": {\"style\": \"light\"}, \"paper_bgcolor\": \"white\", \"plot_bgcolor\": \"#E5ECF6\", \"polar\": {\"angularaxis\": {\"gridcolor\": \"white\", \"linecolor\": \"white\", \"ticks\": \"\"}, \"bgcolor\": \"#E5ECF6\", \"radialaxis\": {\"gridcolor\": \"white\", \"linecolor\": \"white\", \"ticks\": \"\"}}, \"scene\": {\"xaxis\": {\"backgroundcolor\": \"#E5ECF6\", \"gridcolor\": \"white\", \"gridwidth\": 2, \"linecolor\": \"white\", \"showbackground\": true, \"ticks\": \"\", \"zerolinecolor\": \"white\"}, \"yaxis\": {\"backgroundcolor\": \"#E5ECF6\", \"gridcolor\": \"white\", \"gridwidth\": 2, \"linecolor\": \"white\", \"showbackground\": true, \"ticks\": \"\", \"zerolinecolor\": \"white\"}, \"zaxis\": {\"backgroundcolor\": \"#E5ECF6\", \"gridcolor\": \"white\", \"gridwidth\": 2, \"linecolor\": \"white\", \"showbackground\": true, \"ticks\": \"\", \"zerolinecolor\": \"white\"}}, \"shapedefaults\": {\"line\": {\"color\": \"#2a3f5f\"}}, \"ternary\": {\"aaxis\": {\"gridcolor\": \"white\", \"linecolor\": \"white\", \"ticks\": \"\"}, \"baxis\": {\"gridcolor\": \"white\", \"linecolor\": \"white\", \"ticks\": \"\"}, \"bgcolor\": \"#E5ECF6\", \"caxis\": {\"gridcolor\": \"white\", \"linecolor\": \"white\", \"ticks\": \"\"}}, \"title\": {\"x\": 0.05}, \"xaxis\": {\"automargin\": true, \"gridcolor\": \"white\", \"linecolor\": \"white\", \"ticks\": \"\", \"title\": {\"standoff\": 15}, \"zerolinecolor\": \"white\", \"zerolinewidth\": 2}, \"yaxis\": {\"automargin\": true, \"gridcolor\": \"white\", \"linecolor\": \"white\", \"ticks\": \"\", \"title\": {\"standoff\": 15}, \"zerolinecolor\": \"white\", \"zerolinewidth\": 2}}}, \"xaxis\": {\"anchor\": \"y\", \"categoryarray\": [\"female\", \"male\"], \"categoryorder\": \"array\", \"domain\": [0.0, 1.0], \"title\": {\"text\": \"gender\"}}, \"yaxis\": {\"anchor\": \"x\", \"domain\": [0.0, 1.0], \"title\": {\"text\": \"writing score\"}}},\n",
              "                        {\"responsive\": true}\n",
              "                    ).then(function(){\n",
              "                            \n",
              "var gd = document.getElementById('c2380146-ba74-4ca0-bcb4-c81d6fb59dab');\n",
              "var x = new MutationObserver(function (mutations, observer) {{\n",
              "        var display = window.getComputedStyle(gd).display;\n",
              "        if (!display || display === 'none') {{\n",
              "            console.log([gd, 'removed!']);\n",
              "            Plotly.purge(gd);\n",
              "            observer.disconnect();\n",
              "        }}\n",
              "}});\n",
              "\n",
              "// Listen for the removal of the full notebook cells\n",
              "var notebookContainer = gd.closest('#notebook-container');\n",
              "if (notebookContainer) {{\n",
              "    x.observe(notebookContainer, {childList: true});\n",
              "}}\n",
              "\n",
              "// Listen for the clearing of the current output cell\n",
              "var outputEl = gd.closest('.output');\n",
              "if (outputEl) {{\n",
              "    x.observe(outputEl, {childList: true});\n",
              "}}\n",
              "\n",
              "                        })\n",
              "                };\n",
              "                \n",
              "            </script>\n",
              "        </div>\n",
              "</body>\n",
              "</html>"
            ]
          },
          "metadata": {}
        }
      ]
    },
    {
      "cell_type": "markdown",
      "source": [
        "**Observation**\n",
        "* The minimum score for male and female student is 10 and 15 respectively.\n",
        "* For both the gender 100 is maximum.\n",
        "* Most of the writing score for girls lies between 64 to 82 whereas for male that lies between 53 to 74 marks.\n",
        "* Average marks for male and female is 64 and 74 respectively.\n",
        "* Performance of female candidates is better than the male candidates in writing."
      ],
      "metadata": {
        "id": "lV0Kq9AHKYXH"
      }
    },
    {
      "cell_type": "markdown",
      "source": [
        "# Histogram"
      ],
      "metadata": {
        "id": "Kzw1xoqDJuOC"
      }
    },
    {
      "cell_type": "code",
      "source": [
        "fig=px.histogram(df,x='math score',color=\"race/ethnicity\")\n",
        "fig.show()"
      ],
      "metadata": {
        "colab": {
          "base_uri": "https://localhost:8080/",
          "height": 542
        },
        "id": "VEqdLG2pKmHL",
        "outputId": "8641d730-65c5-4663-b3b6-50dd6cf4f5ac"
      },
      "execution_count": null,
      "outputs": [
        {
          "output_type": "display_data",
          "data": {
            "text/html": [
              "<html>\n",
              "<head><meta charset=\"utf-8\" /></head>\n",
              "<body>\n",
              "    <div>\n",
              "            <script src=\"https://cdnjs.cloudflare.com/ajax/libs/mathjax/2.7.5/MathJax.js?config=TeX-AMS-MML_SVG\"></script><script type=\"text/javascript\">if (window.MathJax) {MathJax.Hub.Config({SVG: {font: \"STIX-Web\"}});}</script>\n",
              "                <script type=\"text/javascript\">window.PlotlyConfig = {MathJaxConfig: 'local'};</script>\n",
              "        <script src=\"https://cdn.plot.ly/plotly-latest.min.js\"></script>    \n",
              "            <div id=\"f01cd541-528a-447c-b9d5-3937639baf26\" class=\"plotly-graph-div\" style=\"height:525px; width:100%;\"></div>\n",
              "            <script type=\"text/javascript\">\n",
              "                \n",
              "                    window.PLOTLYENV=window.PLOTLYENV || {};\n",
              "                    \n",
              "                if (document.getElementById(\"f01cd541-528a-447c-b9d5-3937639baf26\")) {\n",
              "                    Plotly.newPlot(\n",
              "                        'f01cd541-528a-447c-b9d5-3937639baf26',\n",
              "                        [{\"alignmentgroup\": \"True\", \"bingroup\": \"x\", \"hoverlabel\": {\"namelength\": 0}, \"hovertemplate\": \"race/ethnicity=group B<br>math score=%{x}<br>count=%{y}\", \"legendgroup\": \"race/ethnicity=group B\", \"marker\": {\"color\": \"#636efa\"}, \"name\": \"race/ethnicity=group B\", \"offsetgroup\": \"race/ethnicity=group B\", \"orientation\": \"v\", \"showlegend\": true, \"type\": \"histogram\", \"x\": [72, 90, 71, 88, 40, 38, 65, 18, 65, 69, 63, 57, 53, 59, 65, 67, 61, 44, 47, 49, 79, 65, 79, 60, 52, 70, 75, 91, 87, 72, 51, 88, 59, 60, 61, 82, 49, 58, 68, 46, 52, 48, 62, 45, 78, 57, 74, 58, 84, 66, 61, 87, 52, 67, 54, 58, 65, 60, 70, 88, 73, 37, 81, 67, 88, 67, 80, 53, 73, 66, 63, 41, 90, 61, 24, 69, 62, 52, 61, 58, 85, 80, 50, 74, 65, 82, 63, 41, 73, 47, 81, 72, 54, 90, 73, 49, 64, 54, 66, 94, 82, 55, 54, 77, 67, 73, 87, 40, 53, 48, 48, 63, 71, 81, 48, 30, 58, 62, 69, 79, 66, 67, 72, 70, 65, 50, 73, 62, 77, 50, 60, 62, 62, 57, 59, 60, 76, 74, 47, 68, 53, 55, 87, 69, 62, 74, 76, 52, 52, 66, 49, 66, 77, 76, 32, 19, 48, 42, 82, 59, 94, 60, 71, 68, 77, 58, 58, 23, 74, 97, 75, 52, 61, 59, 82, 64, 36, 63, 57, 46, 91, 54, 58, 82, 49, 75, 60, 8, 79, 65], \"xaxis\": \"x\", \"yaxis\": \"y\"}, {\"alignmentgroup\": \"True\", \"bingroup\": \"x\", \"hoverlabel\": {\"namelength\": 0}, \"hovertemplate\": \"race/ethnicity=group C<br>math score=%{x}<br>count=%{y}\", \"legendgroup\": \"race/ethnicity=group C\", \"marker\": {\"color\": \"#EF553B\"}, \"name\": \"race/ethnicity=group C\", \"offsetgroup\": \"race/ethnicity=group C\", \"orientation\": \"v\", \"showlegend\": true, \"type\": \"histogram\", \"x\": [69, 76, 58, 69, 88, 46, 54, 69, 67, 70, 55, 58, 66, 82, 53, 71, 33, 0, 69, 60, 39, 61, 49, 73, 76, 65, 27, 71, 43, 78, 98, 58, 62, 84, 55, 79, 88, 53, 75, 58, 59, 59, 22, 73, 70, 52, 96, 53, 67, 63, 43, 81, 71, 62, 46, 45, 65, 77, 69, 59, 67, 69, 59, 35, 42, 60, 34, 55, 72, 88, 46, 83, 84, 85, 68, 64, 78, 65, 64, 79, 44, 63, 69, 58, 83, 85, 65, 76, 63, 40, 67, 74, 51, 68, 59, 71, 83, 67, 71, 43, 41, 82, 61, 82, 71, 47, 83, 49, 58, 61, 72, 77, 63, 46, 59, 42, 52, 59, 69, 61, 45, 87, 79, 57, 57, 65, 85, 59, 54, 63, 51, 71, 74, 82, 62, 86, 69, 68, 64, 61, 61, 73, 50, 70, 67, 67, 86, 64, 65, 65, 53, 37, 53, 77, 84, 91, 83, 63, 68, 68, 70, 60, 64, 83, 81, 54, 63, 79, 86, 76, 91, 54, 53, 56, 36, 62, 68, 47, 66, 51, 75, 81, 72, 62, 79, 79, 32, 55, 61, 63, 96, 53, 50, 65, 44, 54, 58, 92, 56, 29, 75, 85, 40, 58, 94, 65, 60, 65, 35, 58, 44, 75, 51, 77, 74, 73, 65, 50, 63, 73, 66, 69, 65, 70, 29, 49, 66, 49, 75, 66, 66, 93, 73, 96, 76, 62, 50, 53, 87, 67, 92, 61, 81, 59, 69, 50, 79, 77, 58, 53, 58, 62, 35, 52, 91, 68, 52, 52, 67, 76, 73, 90, 54, 72, 77, 48, 62, 56, 65, 74, 60, 66, 64, 91, 59, 71, 62, 65, 87, 53, 71, 97, 59, 49, 70, 43, 80, 57, 63, 62, 54, 73, 67, 52, 47, 44, 57, 35, 48, 67, 70, 98, 72, 81, 54, 58, 62, 84, 75, 65, 63, 78, 64, 62, 91, 74, 40, 62, 59], \"xaxis\": \"x\", \"yaxis\": \"y\"}, {\"alignmentgroup\": \"True\", \"bingroup\": \"x\", \"hoverlabel\": {\"namelength\": 0}, \"hovertemplate\": \"race/ethnicity=group A<br>math score=%{x}<br>count=%{y}\", \"legendgroup\": \"race/ethnicity=group A\", \"marker\": {\"color\": \"#00cc96\"}, \"name\": \"race/ethnicity=group A\", \"offsetgroup\": \"race/ethnicity=group A\", \"orientation\": \"v\", \"showlegend\": true, \"type\": \"histogram\", \"x\": [47, 78, 50, 73, 55, 39, 62, 41, 80, 50, 58, 54, 51, 57, 62, 77, 72, 68, 47, 46, 81, 69, 28, 63, 49, 44, 71, 66, 38, 48, 53, 49, 59, 65, 47, 59, 79, 75, 72, 77, 59, 79, 65, 68, 64, 97, 92, 91, 40, 61, 55, 48, 71, 53, 82, 100, 71, 68, 65, 53, 59, 87, 62, 55, 37, 58, 72, 75, 51, 45, 45, 85, 61, 64, 75, 61, 50, 34, 69, 67, 61, 56, 66, 53, 54, 78, 57, 44, 63], \"xaxis\": \"x\", \"yaxis\": \"y\"}, {\"alignmentgroup\": \"True\", \"bingroup\": \"x\", \"hoverlabel\": {\"namelength\": 0}, \"hovertemplate\": \"race/ethnicity=group D<br>math score=%{x}<br>count=%{y}\", \"legendgroup\": \"race/ethnicity=group D\", \"marker\": {\"color\": \"#ab63fa\"}, \"name\": \"race/ethnicity=group D\", \"offsetgroup\": \"race/ethnicity=group D\", \"orientation\": \"v\", \"showlegend\": true, \"type\": \"histogram\", \"x\": [64, 40, 66, 44, 74, 62, 69, 40, 74, 50, 75, 57, 88, 52, 58, 59, 45, 58, 63, 61, 42, 71, 73, 58, 65, 68, 85, 87, 77, 51, 78, 51, 63, 65, 82, 89, 74, 71, 76, 88, 68, 54, 62, 66, 79, 97, 65, 62, 76, 77, 61, 65, 74, 80, 56, 86, 57, 76, 80, 63, 64, 73, 56, 75, 71, 80, 54, 76, 59, 69, 88, 47, 65, 53, 45, 73, 70, 86, 78, 90, 56, 49, 67, 77, 56, 76, 35, 67, 79, 75, 59, 80, 27, 73, 74, 82, 59, 80, 85, 62, 73, 77, 60, 88, 52, 87, 70, 71, 68, 57, 47, 75, 75, 89, 78, 69, 79, 53, 26, 59, 71, 80, 55, 52, 61, 68, 59, 74, 40, 76, 62, 74, 66, 71, 69, 29, 51, 79, 82, 64, 77, 73, 74, 63, 61, 68, 53, 81, 63, 73, 69, 69, 65, 54, 60, 84, 69, 88, 95, 100, 61, 49, 67, 84, 80, 76, 41, 74, 59, 69, 85, 69, 43, 90, 55, 80, 81, 52, 69, 81, 63, 67, 77, 77, 79, 57, 63, 46, 89, 42, 98, 81, 55, 73, 55, 81, 80, 72, 69, 71, 55, 52, 48, 78, 60, 68, 75, 46, 60, 66, 70, 64, 61, 78, 69, 39, 40, 64, 80, 39, 82, 81, 59, 64, 55, 69, 44, 88, 67, 65, 85, 93, 67, 88, 79, 50, 69, 72, 74, 65, 62, 61, 70, 85, 77, 78, 49, 75, 92, 45, 48, 72, 62, 89, 49, 55, 81, 67, 55, 62, 68, 77], \"xaxis\": \"x\", \"yaxis\": \"y\"}, {\"alignmentgroup\": \"True\", \"bingroup\": \"x\", \"hoverlabel\": {\"namelength\": 0}, \"hovertemplate\": \"race/ethnicity=group E<br>math score=%{x}<br>count=%{y}\", \"legendgroup\": \"race/ethnicity=group E\", \"marker\": {\"color\": \"#FFA15A\"}, \"name\": \"race/ethnicity=group E\", \"offsetgroup\": \"race/ethnicity=group E\", \"orientation\": \"v\", \"showlegend\": true, \"type\": \"histogram\", \"x\": [56, 97, 81, 50, 53, 77, 82, 79, 30, 62, 72, 63, 66, 99, 83, 87, 70, 42, 100, 66, 75, 81, 94, 50, 80, 66, 55, 82, 81, 87, 83, 45, 92, 80, 59, 89, 62, 99, 71, 59, 97, 77, 65, 71, 99, 75, 62, 87, 66, 84, 46, 38, 67, 64, 73, 76, 84, 84, 57, 100, 100, 71, 76, 76, 76, 95, 66, 68, 62, 79, 85, 78, 53, 92, 74, 77, 68, 74, 76, 61, 37, 61, 86, 74, 64, 73, 94, 85, 93, 73, 79, 80, 91, 81, 65, 68, 53, 68, 84, 70, 94, 72, 89, 57, 70, 69, 87, 41, 87, 49, 73, 90, 87, 82, 81, 78, 90, 71, 51, 93, 86, 85, 59, 32, 70, 68, 100, 74, 64, 46, 57, 57, 94, 74, 72, 100, 68, 81, 86, 88], \"xaxis\": \"x\", \"yaxis\": \"y\"}],\n",
              "                        {\"barmode\": \"relative\", \"legend\": {\"tracegroupgap\": 0}, \"margin\": {\"t\": 60}, \"template\": {\"data\": {\"bar\": [{\"error_x\": {\"color\": \"#2a3f5f\"}, \"error_y\": {\"color\": \"#2a3f5f\"}, \"marker\": {\"line\": {\"color\": \"#E5ECF6\", \"width\": 0.5}}, \"type\": \"bar\"}], \"barpolar\": [{\"marker\": {\"line\": {\"color\": \"#E5ECF6\", \"width\": 0.5}}, \"type\": \"barpolar\"}], \"carpet\": [{\"aaxis\": {\"endlinecolor\": \"#2a3f5f\", \"gridcolor\": \"white\", \"linecolor\": \"white\", \"minorgridcolor\": \"white\", \"startlinecolor\": \"#2a3f5f\"}, \"baxis\": {\"endlinecolor\": \"#2a3f5f\", \"gridcolor\": \"white\", \"linecolor\": \"white\", \"minorgridcolor\": \"white\", \"startlinecolor\": \"#2a3f5f\"}, \"type\": \"carpet\"}], \"choropleth\": [{\"colorbar\": {\"outlinewidth\": 0, \"ticks\": \"\"}, \"type\": \"choropleth\"}], \"contour\": [{\"colorbar\": {\"outlinewidth\": 0, \"ticks\": \"\"}, \"colorscale\": [[0.0, \"#0d0887\"], [0.1111111111111111, \"#46039f\"], [0.2222222222222222, \"#7201a8\"], [0.3333333333333333, \"#9c179e\"], [0.4444444444444444, \"#bd3786\"], [0.5555555555555556, \"#d8576b\"], [0.6666666666666666, \"#ed7953\"], [0.7777777777777778, \"#fb9f3a\"], [0.8888888888888888, \"#fdca26\"], [1.0, \"#f0f921\"]], \"type\": \"contour\"}], \"contourcarpet\": [{\"colorbar\": {\"outlinewidth\": 0, \"ticks\": \"\"}, \"type\": \"contourcarpet\"}], \"heatmap\": [{\"colorbar\": {\"outlinewidth\": 0, \"ticks\": \"\"}, \"colorscale\": [[0.0, \"#0d0887\"], [0.1111111111111111, \"#46039f\"], [0.2222222222222222, \"#7201a8\"], [0.3333333333333333, \"#9c179e\"], [0.4444444444444444, \"#bd3786\"], [0.5555555555555556, \"#d8576b\"], [0.6666666666666666, \"#ed7953\"], [0.7777777777777778, \"#fb9f3a\"], [0.8888888888888888, \"#fdca26\"], [1.0, \"#f0f921\"]], \"type\": \"heatmap\"}], \"heatmapgl\": [{\"colorbar\": {\"outlinewidth\": 0, \"ticks\": \"\"}, \"colorscale\": [[0.0, \"#0d0887\"], [0.1111111111111111, \"#46039f\"], [0.2222222222222222, \"#7201a8\"], [0.3333333333333333, \"#9c179e\"], [0.4444444444444444, \"#bd3786\"], [0.5555555555555556, \"#d8576b\"], [0.6666666666666666, \"#ed7953\"], [0.7777777777777778, \"#fb9f3a\"], [0.8888888888888888, \"#fdca26\"], [1.0, \"#f0f921\"]], \"type\": \"heatmapgl\"}], \"histogram\": [{\"marker\": {\"colorbar\": {\"outlinewidth\": 0, \"ticks\": \"\"}}, \"type\": \"histogram\"}], \"histogram2d\": [{\"colorbar\": {\"outlinewidth\": 0, \"ticks\": \"\"}, \"colorscale\": [[0.0, \"#0d0887\"], [0.1111111111111111, \"#46039f\"], [0.2222222222222222, \"#7201a8\"], [0.3333333333333333, \"#9c179e\"], [0.4444444444444444, \"#bd3786\"], [0.5555555555555556, \"#d8576b\"], [0.6666666666666666, \"#ed7953\"], [0.7777777777777778, \"#fb9f3a\"], [0.8888888888888888, \"#fdca26\"], [1.0, \"#f0f921\"]], \"type\": \"histogram2d\"}], \"histogram2dcontour\": [{\"colorbar\": {\"outlinewidth\": 0, \"ticks\": \"\"}, \"colorscale\": [[0.0, \"#0d0887\"], [0.1111111111111111, \"#46039f\"], [0.2222222222222222, \"#7201a8\"], [0.3333333333333333, \"#9c179e\"], [0.4444444444444444, \"#bd3786\"], [0.5555555555555556, \"#d8576b\"], [0.6666666666666666, \"#ed7953\"], [0.7777777777777778, \"#fb9f3a\"], [0.8888888888888888, \"#fdca26\"], [1.0, \"#f0f921\"]], \"type\": \"histogram2dcontour\"}], \"mesh3d\": [{\"colorbar\": {\"outlinewidth\": 0, \"ticks\": \"\"}, \"type\": \"mesh3d\"}], \"parcoords\": [{\"line\": {\"colorbar\": {\"outlinewidth\": 0, \"ticks\": \"\"}}, \"type\": \"parcoords\"}], \"pie\": [{\"automargin\": true, \"type\": \"pie\"}], \"scatter\": [{\"marker\": {\"colorbar\": {\"outlinewidth\": 0, \"ticks\": \"\"}}, \"type\": \"scatter\"}], \"scatter3d\": [{\"line\": {\"colorbar\": {\"outlinewidth\": 0, \"ticks\": \"\"}}, \"marker\": {\"colorbar\": {\"outlinewidth\": 0, \"ticks\": \"\"}}, \"type\": \"scatter3d\"}], \"scattercarpet\": [{\"marker\": {\"colorbar\": {\"outlinewidth\": 0, \"ticks\": \"\"}}, \"type\": \"scattercarpet\"}], \"scattergeo\": [{\"marker\": {\"colorbar\": {\"outlinewidth\": 0, \"ticks\": \"\"}}, \"type\": \"scattergeo\"}], \"scattergl\": [{\"marker\": {\"colorbar\": {\"outlinewidth\": 0, \"ticks\": \"\"}}, \"type\": \"scattergl\"}], \"scattermapbox\": [{\"marker\": {\"colorbar\": {\"outlinewidth\": 0, \"ticks\": \"\"}}, \"type\": \"scattermapbox\"}], \"scatterpolar\": [{\"marker\": {\"colorbar\": {\"outlinewidth\": 0, \"ticks\": \"\"}}, \"type\": \"scatterpolar\"}], \"scatterpolargl\": [{\"marker\": {\"colorbar\": {\"outlinewidth\": 0, \"ticks\": \"\"}}, \"type\": \"scatterpolargl\"}], \"scatterternary\": [{\"marker\": {\"colorbar\": {\"outlinewidth\": 0, \"ticks\": \"\"}}, \"type\": \"scatterternary\"}], \"surface\": [{\"colorbar\": {\"outlinewidth\": 0, \"ticks\": \"\"}, \"colorscale\": [[0.0, \"#0d0887\"], [0.1111111111111111, \"#46039f\"], [0.2222222222222222, \"#7201a8\"], [0.3333333333333333, \"#9c179e\"], [0.4444444444444444, \"#bd3786\"], [0.5555555555555556, \"#d8576b\"], [0.6666666666666666, \"#ed7953\"], [0.7777777777777778, \"#fb9f3a\"], [0.8888888888888888, \"#fdca26\"], [1.0, \"#f0f921\"]], \"type\": \"surface\"}], \"table\": [{\"cells\": {\"fill\": {\"color\": \"#EBF0F8\"}, \"line\": {\"color\": \"white\"}}, \"header\": {\"fill\": {\"color\": \"#C8D4E3\"}, \"line\": {\"color\": \"white\"}}, \"type\": \"table\"}]}, \"layout\": {\"annotationdefaults\": {\"arrowcolor\": \"#2a3f5f\", \"arrowhead\": 0, \"arrowwidth\": 1}, \"coloraxis\": {\"colorbar\": {\"outlinewidth\": 0, \"ticks\": \"\"}}, \"colorscale\": {\"diverging\": [[0, \"#8e0152\"], [0.1, \"#c51b7d\"], [0.2, \"#de77ae\"], [0.3, \"#f1b6da\"], [0.4, \"#fde0ef\"], [0.5, \"#f7f7f7\"], [0.6, \"#e6f5d0\"], [0.7, \"#b8e186\"], [0.8, \"#7fbc41\"], [0.9, \"#4d9221\"], [1, \"#276419\"]], \"sequential\": [[0.0, \"#0d0887\"], [0.1111111111111111, \"#46039f\"], [0.2222222222222222, \"#7201a8\"], [0.3333333333333333, \"#9c179e\"], [0.4444444444444444, \"#bd3786\"], [0.5555555555555556, \"#d8576b\"], [0.6666666666666666, \"#ed7953\"], [0.7777777777777778, \"#fb9f3a\"], [0.8888888888888888, \"#fdca26\"], [1.0, \"#f0f921\"]], \"sequentialminus\": [[0.0, \"#0d0887\"], [0.1111111111111111, \"#46039f\"], [0.2222222222222222, \"#7201a8\"], [0.3333333333333333, \"#9c179e\"], [0.4444444444444444, \"#bd3786\"], [0.5555555555555556, \"#d8576b\"], [0.6666666666666666, \"#ed7953\"], [0.7777777777777778, \"#fb9f3a\"], [0.8888888888888888, \"#fdca26\"], [1.0, \"#f0f921\"]]}, \"colorway\": [\"#636efa\", \"#EF553B\", \"#00cc96\", \"#ab63fa\", \"#FFA15A\", \"#19d3f3\", \"#FF6692\", \"#B6E880\", \"#FF97FF\", \"#FECB52\"], \"font\": {\"color\": \"#2a3f5f\"}, \"geo\": {\"bgcolor\": \"white\", \"lakecolor\": \"white\", \"landcolor\": \"#E5ECF6\", \"showlakes\": true, \"showland\": true, \"subunitcolor\": \"white\"}, \"hoverlabel\": {\"align\": \"left\"}, \"hovermode\": \"closest\", \"mapbox\": {\"style\": \"light\"}, \"paper_bgcolor\": \"white\", \"plot_bgcolor\": \"#E5ECF6\", \"polar\": {\"angularaxis\": {\"gridcolor\": \"white\", \"linecolor\": \"white\", \"ticks\": \"\"}, \"bgcolor\": \"#E5ECF6\", \"radialaxis\": {\"gridcolor\": \"white\", \"linecolor\": \"white\", \"ticks\": \"\"}}, \"scene\": {\"xaxis\": {\"backgroundcolor\": \"#E5ECF6\", \"gridcolor\": \"white\", \"gridwidth\": 2, \"linecolor\": \"white\", \"showbackground\": true, \"ticks\": \"\", \"zerolinecolor\": \"white\"}, \"yaxis\": {\"backgroundcolor\": \"#E5ECF6\", \"gridcolor\": \"white\", \"gridwidth\": 2, \"linecolor\": \"white\", \"showbackground\": true, \"ticks\": \"\", \"zerolinecolor\": \"white\"}, \"zaxis\": {\"backgroundcolor\": \"#E5ECF6\", \"gridcolor\": \"white\", \"gridwidth\": 2, \"linecolor\": \"white\", \"showbackground\": true, \"ticks\": \"\", \"zerolinecolor\": \"white\"}}, \"shapedefaults\": {\"line\": {\"color\": \"#2a3f5f\"}}, \"ternary\": {\"aaxis\": {\"gridcolor\": \"white\", \"linecolor\": \"white\", \"ticks\": \"\"}, \"baxis\": {\"gridcolor\": \"white\", \"linecolor\": \"white\", \"ticks\": \"\"}, \"bgcolor\": \"#E5ECF6\", \"caxis\": {\"gridcolor\": \"white\", \"linecolor\": \"white\", \"ticks\": \"\"}}, \"title\": {\"x\": 0.05}, \"xaxis\": {\"automargin\": true, \"gridcolor\": \"white\", \"linecolor\": \"white\", \"ticks\": \"\", \"title\": {\"standoff\": 15}, \"zerolinecolor\": \"white\", \"zerolinewidth\": 2}, \"yaxis\": {\"automargin\": true, \"gridcolor\": \"white\", \"linecolor\": \"white\", \"ticks\": \"\", \"title\": {\"standoff\": 15}, \"zerolinecolor\": \"white\", \"zerolinewidth\": 2}}}, \"xaxis\": {\"anchor\": \"y\", \"domain\": [0.0, 1.0], \"title\": {\"text\": \"math score\"}}, \"yaxis\": {\"anchor\": \"x\", \"domain\": [0.0, 1.0], \"title\": {\"text\": \"count\"}}},\n",
              "                        {\"responsive\": true}\n",
              "                    ).then(function(){\n",
              "                            \n",
              "var gd = document.getElementById('f01cd541-528a-447c-b9d5-3937639baf26');\n",
              "var x = new MutationObserver(function (mutations, observer) {{\n",
              "        var display = window.getComputedStyle(gd).display;\n",
              "        if (!display || display === 'none') {{\n",
              "            console.log([gd, 'removed!']);\n",
              "            Plotly.purge(gd);\n",
              "            observer.disconnect();\n",
              "        }}\n",
              "}});\n",
              "\n",
              "// Listen for the removal of the full notebook cells\n",
              "var notebookContainer = gd.closest('#notebook-container');\n",
              "if (notebookContainer) {{\n",
              "    x.observe(notebookContainer, {childList: true});\n",
              "}}\n",
              "\n",
              "// Listen for the clearing of the current output cell\n",
              "var outputEl = gd.closest('.output');\n",
              "if (outputEl) {{\n",
              "    x.observe(outputEl, {childList: true});\n",
              "}}\n",
              "\n",
              "                        })\n",
              "                };\n",
              "                \n",
              "            </script>\n",
              "        </div>\n",
              "</body>\n",
              "</html>"
            ]
          },
          "metadata": {}
        }
      ]
    },
    {
      "cell_type": "markdown",
      "source": [
        "**Observation**\n",
        "* The least score in Math is scored by one candidate belongs to group C.\n",
        "* The maximum score in Math is scored by seven candidates in which 5 candidates belongs to Group E and one-one candidate is from group A and group D.\n",
        "* Most of the candidates of group A has scored between 44 to 69 marks.\n",
        "* Most of the candidates of group B has scored between 58 to 84 marks.\n",
        "* Most of the candidates of group C has scored between 58 to 78 marks.\n",
        "* Most of the candidates of group E has scored between 68 to 86 marks.\n",
        "* Most of the candidates of group D has scored between 54 to 80 marks.\n",
        "* Overall, most of the candidate's score lies between 58 to 80 marks."
      ],
      "metadata": {
        "id": "9pV-yLrDKxTP"
      }
    },
    {
      "cell_type": "markdown",
      "source": [
        "# Density Plot"
      ],
      "metadata": {
        "id": "q43jbV8oJzDB"
      }
    },
    {
      "cell_type": "markdown",
      "source": [
        "https://colab.research.google.com/github/jakevdp/PythonDataScienceHandbook/blob/master/notebooks/04.04-Density-and-Contour-Plots.ipynb"
      ],
      "metadata": {
        "id": "nqhFmdcE0X12"
      }
    },
    {
      "cell_type": "markdown",
      "source": [
        "# Contour Plot"
      ],
      "metadata": {
        "id": "Uupx5qtrJ3hB"
      }
    },
    {
      "cell_type": "markdown",
      "source": [
        "# Scatter Plot"
      ],
      "metadata": {
        "id": "9PzZWyhGKAoc"
      }
    }
  ]
}