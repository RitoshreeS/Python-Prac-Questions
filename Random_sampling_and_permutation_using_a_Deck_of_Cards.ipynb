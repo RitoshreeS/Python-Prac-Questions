{
  "nbformat": 4,
  "nbformat_minor": 0,
  "metadata": {
    "colab": {
      "provenance": []
    },
    "kernelspec": {
      "name": "python3",
      "display_name": "Python 3"
    },
    "language_info": {
      "name": "python"
    }
  },
  "cells": [
    {
      "cell_type": "markdown",
      "metadata": {
        "id": "INoQLoyxItdN"
      },
      "source": [
        "**Random sampling and Permutation**\n",
        "\n",
        "Simulate the card sampling from a deck of cards.\n",
        "Consider both the options of with and without replacement of card"
      ]
    },
    {
      "cell_type": "code",
      "metadata": {
        "colab": {
          "base_uri": "https://localhost:8080/"
        },
        "id": "OjQGd0pSPkGS",
        "outputId": "97ba363f-d6aa-441c-cd9e-d7f6b640f38a"
      },
      "source": [
        "#Without Replacement\n",
        "import random\n",
        "import itertools as I\n",
        "card_points =['A','K','Q','J','2','3','4','5','6','7','8','9','10']\n",
        "card_signs =['Heart','CLUB','DIAMOND','SPADE']\n",
        "A=list(I.permutations(card_points,2))\n",
        "B=list(I.permutations(card_signs,2))\n",
        "print(A)\n",
        "\n",
        "print(B)\n",
        "random_p = random.sample(card_points,1)\n",
        "random_s = random.sample(card_signs,1)\n",
        "random_card = random_p,random_s\n",
        "print(\"Card:\",random_card)"
      ],
      "execution_count": null,
      "outputs": [
        {
          "output_type": "stream",
          "name": "stdout",
          "text": [
            "[('A', 'K'), ('A', 'Q'), ('A', 'J'), ('A', '2'), ('A', '3'), ('A', '4'), ('A', '5'), ('A', '6'), ('A', '7'), ('A', '8'), ('A', '9'), ('A', '10'), ('K', 'A'), ('K', 'Q'), ('K', 'J'), ('K', '2'), ('K', '3'), ('K', '4'), ('K', '5'), ('K', '6'), ('K', '7'), ('K', '8'), ('K', '9'), ('K', '10'), ('Q', 'A'), ('Q', 'K'), ('Q', 'J'), ('Q', '2'), ('Q', '3'), ('Q', '4'), ('Q', '5'), ('Q', '6'), ('Q', '7'), ('Q', '8'), ('Q', '9'), ('Q', '10'), ('J', 'A'), ('J', 'K'), ('J', 'Q'), ('J', '2'), ('J', '3'), ('J', '4'), ('J', '5'), ('J', '6'), ('J', '7'), ('J', '8'), ('J', '9'), ('J', '10'), ('2', 'A'), ('2', 'K'), ('2', 'Q'), ('2', 'J'), ('2', '3'), ('2', '4'), ('2', '5'), ('2', '6'), ('2', '7'), ('2', '8'), ('2', '9'), ('2', '10'), ('3', 'A'), ('3', 'K'), ('3', 'Q'), ('3', 'J'), ('3', '2'), ('3', '4'), ('3', '5'), ('3', '6'), ('3', '7'), ('3', '8'), ('3', '9'), ('3', '10'), ('4', 'A'), ('4', 'K'), ('4', 'Q'), ('4', 'J'), ('4', '2'), ('4', '3'), ('4', '5'), ('4', '6'), ('4', '7'), ('4', '8'), ('4', '9'), ('4', '10'), ('5', 'A'), ('5', 'K'), ('5', 'Q'), ('5', 'J'), ('5', '2'), ('5', '3'), ('5', '4'), ('5', '6'), ('5', '7'), ('5', '8'), ('5', '9'), ('5', '10'), ('6', 'A'), ('6', 'K'), ('6', 'Q'), ('6', 'J'), ('6', '2'), ('6', '3'), ('6', '4'), ('6', '5'), ('6', '7'), ('6', '8'), ('6', '9'), ('6', '10'), ('7', 'A'), ('7', 'K'), ('7', 'Q'), ('7', 'J'), ('7', '2'), ('7', '3'), ('7', '4'), ('7', '5'), ('7', '6'), ('7', '8'), ('7', '9'), ('7', '10'), ('8', 'A'), ('8', 'K'), ('8', 'Q'), ('8', 'J'), ('8', '2'), ('8', '3'), ('8', '4'), ('8', '5'), ('8', '6'), ('8', '7'), ('8', '9'), ('8', '10'), ('9', 'A'), ('9', 'K'), ('9', 'Q'), ('9', 'J'), ('9', '2'), ('9', '3'), ('9', '4'), ('9', '5'), ('9', '6'), ('9', '7'), ('9', '8'), ('9', '10'), ('10', 'A'), ('10', 'K'), ('10', 'Q'), ('10', 'J'), ('10', '2'), ('10', '3'), ('10', '4'), ('10', '5'), ('10', '6'), ('10', '7'), ('10', '8'), ('10', '9')]\n",
            "[('Heart', 'CLUB'), ('Heart', 'DIAMOND'), ('Heart', 'SPADE'), ('CLUB', 'Heart'), ('CLUB', 'DIAMOND'), ('CLUB', 'SPADE'), ('DIAMOND', 'Heart'), ('DIAMOND', 'CLUB'), ('DIAMOND', 'SPADE'), ('SPADE', 'Heart'), ('SPADE', 'CLUB'), ('SPADE', 'DIAMOND')]\n",
            "Card: (['10'], ['Heart'])\n"
          ]
        }
      ]
    },
    {
      "cell_type": "code",
      "metadata": {
        "colab": {
          "base_uri": "https://localhost:8080/"
        },
        "id": "InSpJ3vcQMaZ",
        "outputId": "792cd54e-1e81-4eb8-dd64-1a08154687d8"
      },
      "source": [
        "#With Replacement\n",
        "import random\n",
        "import itertools as I\n",
        "card_points =['A','K','Q','J','2','3','4','5','6','7','8','9','10']\n",
        "card_signs =['Heart','CLUB','DIAMOND','SPADE']\n",
        "A=list(I.combinations(card_points,2))\n",
        "B=list(I.combinations(card_signs,2))\n",
        "print(A)\n",
        "\n",
        "print(B)\n",
        "random_p = random.sample(card_points,1)\n",
        "random_s= random.sample(card_signs,1)\n",
        "random_card = random_p,random_s\n",
        "print(\"Card:\",random_card)"
      ],
      "execution_count": null,
      "outputs": [
        {
          "output_type": "stream",
          "name": "stdout",
          "text": [
            "[('A', 'K'), ('A', 'Q'), ('A', 'J'), ('A', '2'), ('A', '3'), ('A', '4'), ('A', '5'), ('A', '6'), ('A', '7'), ('A', '8'), ('A', '9'), ('A', '10'), ('K', 'Q'), ('K', 'J'), ('K', '2'), ('K', '3'), ('K', '4'), ('K', '5'), ('K', '6'), ('K', '7'), ('K', '8'), ('K', '9'), ('K', '10'), ('Q', 'J'), ('Q', '2'), ('Q', '3'), ('Q', '4'), ('Q', '5'), ('Q', '6'), ('Q', '7'), ('Q', '8'), ('Q', '9'), ('Q', '10'), ('J', '2'), ('J', '3'), ('J', '4'), ('J', '5'), ('J', '6'), ('J', '7'), ('J', '8'), ('J', '9'), ('J', '10'), ('2', '3'), ('2', '4'), ('2', '5'), ('2', '6'), ('2', '7'), ('2', '8'), ('2', '9'), ('2', '10'), ('3', '4'), ('3', '5'), ('3', '6'), ('3', '7'), ('3', '8'), ('3', '9'), ('3', '10'), ('4', '5'), ('4', '6'), ('4', '7'), ('4', '8'), ('4', '9'), ('4', '10'), ('5', '6'), ('5', '7'), ('5', '8'), ('5', '9'), ('5', '10'), ('6', '7'), ('6', '8'), ('6', '9'), ('6', '10'), ('7', '8'), ('7', '9'), ('7', '10'), ('8', '9'), ('8', '10'), ('9', '10')]\n",
            "[('Heart', 'CLUB'), ('Heart', 'DIAMOND'), ('Heart', 'SPADE'), ('CLUB', 'DIAMOND'), ('CLUB', 'SPADE'), ('DIAMOND', 'SPADE')]\n",
            "Card: (['4'], ['DIAMOND'])\n"
          ]
        }
      ]
    }
  ]
}