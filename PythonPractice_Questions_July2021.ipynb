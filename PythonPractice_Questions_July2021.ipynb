{
  "nbformat": 4,
  "nbformat_minor": 0,
  "metadata": {
    "colab": {
      "provenance": []
    },
    "kernelspec": {
      "name": "python3",
      "display_name": "Python 3"
    },
    "language_info": {
      "name": "python"
    }
  },
  "cells": [
    {
      "cell_type": "markdown",
      "metadata": {
        "id": "Pr-oHWQB1PL8"
      },
      "source": [
        "## **Drive Connection**"
      ]
    },
    {
      "cell_type": "code",
      "metadata": {
        "id": "vWlY7-DSLfbX",
        "colab": {
          "base_uri": "https://localhost:8080/"
        },
        "outputId": "028d020f-c280-45aa-9099-ba996f579bc0"
      },
      "source": [
        "# To mount your Google Drive on your runtime using an authorization code\n",
        "from google.colab import drive\n",
        "drive.mount('/content/drive/')\n",
        "import os\n",
        "os.chdir('/content/drive/My Drive/DSC/Data Analysis and Visualization using Python/Lab_DAV_Python')"
      ],
      "execution_count": null,
      "outputs": [
        {
          "output_type": "stream",
          "text": [
            "Mounted at /content/drive/\n"
          ],
          "name": "stdout"
        }
      ]
    },
    {
      "cell_type": "code",
      "metadata": {
        "id": "YSjZ49iSUyPW",
        "colab": {
          "base_uri": "https://localhost:8080/",
          "height": 53
        },
        "outputId": "179ae189-79b4-478a-d496-0d8a75304a73"
      },
      "source": [
        "f = open('Python.txt', 'r')\n",
        "f.read()\n"
      ],
      "execution_count": null,
      "outputs": [
        {
          "output_type": "execute_result",
          "data": {
            "application/vnd.google.colaboratory.intrinsic+json": {
              "type": "string"
            },
            "text/plain": [
              "\"Python is an interpreted high-level general-purpose programming language. Python's design philosophy emphasizes code readability with its notable use of significant indentation. Its language constructs as well as its object-oriented approach aim to help programmers write clear, logical code for small and large-scale projects\""
            ]
          },
          "metadata": {
            "tags": []
          },
          "execution_count": 4
        }
      ]
    },
    {
      "cell_type": "markdown",
      "metadata": {
        "id": "gDaf3eve1elp"
      },
      "source": [
        "### **Q1. Given below is a dictionary having two keys ‘Boys’ and ‘Girls’ and having two lists of heights of five Boys and Five Girls respectively as values associated with these keys**\n",
        "\n",
        "    Original dictionary of lists:\n",
        "    {'Boys': [72, 68, 70, 69, 74], 'Girls': [63, 65, 69, 62, 61]}\n",
        "\n",
        "\n",
        "From the given dictionary of lists create the following list of dictionaries:\n",
        "\n",
        "      [{'Boys': 72, 'Girls': 63}, {'Boys': 68, 'Girls': 65}, {'Boys': 70, 'Girls': 69}, {'Boys': 69, 'Girls': 62}, {‘Boys’:74, ‘Girls’:61]"
      ]
    },
    {
      "cell_type": "code",
      "metadata": {
        "id": "r3jVSMLc2pRT"
      },
      "source": [
        "### to do ###"
      ],
      "execution_count": null,
      "outputs": []
    },
    {
      "cell_type": "code",
      "metadata": {
        "id": "7tvVFOrKmFNj"
      },
      "source": [],
      "execution_count": null,
      "outputs": []
    },
    {
      "cell_type": "markdown",
      "metadata": {
        "id": "OCuDIfdm2pzU"
      },
      "source": [
        "### **Q2. Create a text file with its content taken from the website (https://en.wikipedia.org/wiki/Python_(programming_language))**. Read the content from the file and retrieve all the words from the file by removing all the delimiters(such as comma and full-stop). Create\ta\tfrequencyDictionary which maps words to their count of occurrence. Also, list all the words that occurs atleast N times."
      ]
    },
    {
      "cell_type": "code",
      "metadata": {
        "id": "l6yHu7Y72wQp"
      },
      "source": [
        "### TO DO ###"
      ],
      "execution_count": null,
      "outputs": []
    },
    {
      "cell_type": "markdown",
      "metadata": {
        "id": "yKhCVoHhYIb4"
      },
      "source": [
        "#### **Q3. Write a program that takes a value x and a dictionary type as an input and returns the list comprising of all keys that map to the same value x (Use list comprehension).**\n"
      ]
    },
    {
      "cell_type": "code",
      "metadata": {
        "id": "bi2C_-YGYMLC"
      },
      "source": [
        "### TO DO ### {K1:V1, K2:V2, K3:V2, K4:V2} => x: V2\n",
        "#Result = [K2, K3, K4]"
      ],
      "execution_count": null,
      "outputs": []
    },
    {
      "cell_type": "code",
      "metadata": {
        "colab": {
          "base_uri": "https://localhost:8080/"
        },
        "id": "LiuwEKFNX2qd",
        "outputId": "cc4476be-87e1-4fc9-e1ac-de89269f84be"
      },
      "source": [
        "def map_value(dict1):\n",
        "  x=eval(input(\"Enter the value:\"))\n",
        "  list1=[ key for (key,value) in dict1.items() if x==value]\n",
        "  print(\"Result\",list1)\n",
        "\n",
        "def main():\n",
        "  dict1=eval(input(\"Enter the dictionary:\"))\n",
        "  map_value(dict1)\n",
        "\n",
        "\n",
        "if __name__=='__main__':\n",
        "  main()"
      ],
      "execution_count": null,
      "outputs": [
        {
          "output_type": "stream",
          "text": [
            "Enter the dictionary:{'K1':'V1', 'K2':'V2', 'K3':'V2', 'K4':'V2'}\n",
            "Enter the value:'V2'\n",
            "Result ['K2', 'K3', 'K4']\n"
          ],
          "name": "stdout"
        }
      ]
    },
    {
      "cell_type": "markdown",
      "metadata": {
        "id": "4KcYs6iNYmsZ"
      },
      "source": [
        "#### **Q4. Write a function that takes n as an input and creates a list of n sub-lists such that ith sub-list contains first 5 multiples of i (Use list comprehension).**"
      ]
    },
    {
      "cell_type": "code",
      "metadata": {
        "id": "99qVd2PYYzhg"
      },
      "source": [
        "### TO DO ### n= 3, [[1,2,3,4,5], [2,4,6,8,10], [3,6,9,12,15]]"
      ],
      "execution_count": null,
      "outputs": []
    },
    {
      "cell_type": "code",
      "metadata": {
        "colab": {
          "base_uri": "https://localhost:8080/"
        },
        "id": "5B3xSnHBcQxi",
        "outputId": "8218dbba-757b-4209-f7c9-b1685ad90b31"
      },
      "source": [
        "def sub(n):\n",
        "  L=[]\n",
        "  for i in range(1,n+1):\n",
        "    L.append([i*x for x in range(1,6)])\n",
        "\n",
        "  print(\"Result:\",L)\n",
        "\n",
        "def main():\n",
        "  n=int(input(\"Enter the value of n:\"))\n",
        "  sub(n)\n",
        "if __name__=='__main__':\n",
        "  main()"
      ],
      "execution_count": null,
      "outputs": [
        {
          "output_type": "stream",
          "text": [
            "Enter the value of n:3\n",
            "Result: [[1, 2, 3, 4, 5], [2, 4, 6, 8, 10], [3, 6, 9, 12, 15]]\n"
          ],
          "name": "stdout"
        }
      ]
    },
    {
      "cell_type": "markdown",
      "metadata": {
        "id": "zd49z-LoY_VS"
      },
      "source": [
        "#### Q5.  **Write a program that takes a dictionary type as input and returns the inverted dictionary, considering values to be unique (Use dictionary comprehension). Inverted dictionary is the dictionary with key and value corresponding to each pair swapped with each other.**\n",
        "\n",
        "#### **Write another function that creates inverted dictionary considering the case where each value does not uniquely identifies the key associated with it.**"
      ]
    },
    {
      "cell_type": "code",
      "metadata": {
        "id": "3no7-UBKaMWd"
      },
      "source": [
        "### TO DO ### my_dict = {'hilarious':'amusing', 'suspicious':'doubtful','comical':'amusing'}\n",
        "# my_dict = {'amusing': ['hilarious', 'comical'] , 'doubtful': 'suspicious'}"
      ],
      "execution_count": null,
      "outputs": []
    },
    {
      "cell_type": "code",
      "metadata": {
        "colab": {
          "base_uri": "https://localhost:8080/"
        },
        "id": "c42EiazZdZR4",
        "outputId": "7d7bc76b-e7fd-4a8d-82bd-22ee5cf3fbb7"
      },
      "source": [
        "def reverse(my_dict): #Considering keys to be unique\n",
        "  my_dict={values:keys for (keys,values) in my_dict.items()}\n",
        "  print(\"Result 1:\",my_dict)\n",
        "\n",
        "def reverse1(my_dict): #Considering keys not to be unique\n",
        "  dict2={}\n",
        "  for keys,values in dict2.items():\n",
        "    dict2[values]=dict2.get(values,[])\n",
        "    dict2[values].append(keys)\n",
        "  print(\"Result 2:\",dict2)\n",
        "\n",
        "\n",
        "def main():\n",
        "  my_dict=eval(input(\"Enter the dictionary:\"))\n",
        "  reverse(my_dict)\n",
        "  reverse1(my_dict)\n",
        "if __name__=='__main__':\n",
        "  main()"
      ],
      "execution_count": null,
      "outputs": [
        {
          "output_type": "stream",
          "text": [
            "Enter the dictionary:{'hilarious':'amusing', 'suspicious':'doubtful','comical':'amusing'}\n",
            "Result 1: {'amusing': 'comical', 'doubtful': 'suspicious'}\n",
            "Result 2: {}\n"
          ],
          "name": "stdout"
        }
      ]
    },
    {
      "cell_type": "markdown",
      "metadata": {
        "id": "diY9mgTcTreI"
      },
      "source": [
        "### **Q6. Is tuple comprehension possible in Python?**"
      ]
    },
    {
      "cell_type": "code",
      "metadata": {
        "id": "dc_Xa6cTT1FD"
      },
      "source": [
        "### Write your answer here with the reasoning ###"
      ],
      "execution_count": null,
      "outputs": []
    },
    {
      "cell_type": "markdown",
      "metadata": {
        "id": "Xc6_rffxhcko"
      },
      "source": [
        "Comprehension works by looping or iterating over items and assigning them into a container, a Tuple is unable to receive assignments. Once a Tuple is created, it cannot be appended to, extended, or assigned to."
      ]
    },
    {
      "cell_type": "markdown",
      "metadata": {
        "id": "ALY-f5R96wZ9"
      },
      "source": [
        "### **Q7. Take a list of values as an input from the user and plot the data distribution using histogram.**"
      ]
    },
    {
      "cell_type": "code",
      "metadata": {
        "id": "EbTX_Lw_68QU"
      },
      "source": [
        "### TO DO ###"
      ],
      "execution_count": null,
      "outputs": []
    },
    {
      "cell_type": "code",
      "metadata": {
        "colab": {
          "base_uri": "https://localhost:8080/",
          "height": 312
        },
        "id": "1tJ0scvqjy6q",
        "outputId": "4706df96-59de-4365-fa19-8a4801729578"
      },
      "source": [
        "import matplotlib.pyplot as plt\n",
        "\n",
        "def plotHistogram(data):\n",
        "  plt.hist(data, bins=5, color='y', histtype=\"step\")\n",
        "  plt.xlabel('Values')\n",
        "  plt.ylabel('Frequency')\n",
        "  plt.title('Plotting Histogram')\n",
        "  plt.xlim(min(data)-1,max(data)+1)\n",
        "  plt.show()\n",
        "\n",
        "def main():\n",
        "  data=eval(input(\"Enter the data as a list:\"))\n",
        "  plotHistogram(data)\n",
        "if __name__=='__main__':\n",
        "  main()"
      ],
      "execution_count": null,
      "outputs": [
        {
          "output_type": "stream",
          "text": [
            "Enter the data as a list:[10,20,30,40]\n"
          ],
          "name": "stdout"
        },
        {
          "output_type": "display_data",
          "data": {
            "image/png": "[encoded data removed]",
            "text/plain": [
              "<Figure size 432x288 with 1 Axes>"
            ]
          },
          "metadata": {
            "tags": [],
            "needs_background": "light"
          }
        }
      ]
    },
    {
      "cell_type": "markdown",
      "metadata": {
        "id": "CwL4LtjKTO6f"
      },
      "source": [
        "#### Q8. **Write a code snippet that reads an excel file from the link: https://product2.s3-ap-southeast-2.amazonaws.com/Activity_files/MC_DAP01/Brazilian-fire-dataset.csv and creates a list comprising unique states from the second column of the file.**"
      ]
    },
    {
      "cell_type": "code",
      "metadata": {
        "id": "vPh1HC2QTS40"
      },
      "source": [
        "### TO DO ###"
      ],
      "execution_count": null,
      "outputs": []
    },
    {
      "cell_type": "code",
      "metadata": {
        "colab": {
          "base_uri": "https://localhost:8080/"
        },
        "id": "GN2q-CYGmY-c",
        "outputId": "5bd6f4d4-d1ae-4891-9176-ee5ba8b7d9aa"
      },
      "source": [
        "import pandas as pd\n",
        "file=pd.read_csv(\"https://product2.s3-ap-southeast-2.amazonaws.com/Activity_files/MC_DAP01/Brazilian-fire-dataset.csv\")\n",
        "unique_s=list(set(file.State))\n",
        "print(\"Unique states:\",unique_s)\n",
        "\n"
      ],
      "execution_count": null,
      "outputs": [
        {
          "output_type": "stream",
          "text": [
            "Unique states: ['Sergipe', 'Mato Grosso do Sul', 'Pará', 'São Paulo', 'Paraná', 'Goiás', 'Rio de January', 'Roraima', 'Rio Grande do Sul', 'Maranhão', 'Acre', 'Minas Gerais', 'Ceará', 'Rondônia', 'Alagoas', 'Paraíba', 'Rio Grande do Norte', 'Bahia', 'Amapá', 'Espírito Santo', 'Pernambuco', 'Amazonas', 'Distrito Federal', 'Piauí', 'Mato Grosso', 'Santa Catarina', 'Tocantins']\n"
          ],
          "name": "stdout"
        }
      ]
    },
    {
      "cell_type": "markdown",
      "metadata": {
        "id": "ljL4zDFEtUv6"
      },
      "source": [
        "#### Q9. **Consider the array of values generated by the following cell. Plot the data distribution corresponding to these two data arrays using the histogram in the same graph. PS: Explore alpha parameter and set it to appropriate value to make both the histograms clearly visible.**\n",
        "\n",
        "Example Diagram:\n",
        "\n",
        "![image.png](data:image/png;base64,iVBORw0KGgoAAAANSUhEUgAAAX0AAAD8CAYAAACb4nSYAAAcLklEQVR4Ae2da6guV3nHfzE3L4k1XhtqNkk+9EPS2pLYmkAQK7WJUSiVfDAQsSocqlLEJIWEqGhBbRKwaZqIgURar/UCRRtIo8ZQBEvCyT2RHpOTpFZRVFCo+MXCLo+u2Znznv3u/b7v3NZa81vwZmbWrFnref7PM7+ZrJmzBywqoAIqoAIqoAIqoAIqoAIqoAIqoAIqoAIqoAIqoAIqoAIqoAIqoAIqoAIqoAIqoAIqoAIqoAIqoAIqoAIZKXAs8ABwe7LpDOAe4AngC8AJqf7EtB31sf/0lg9Xp/aHgAtb9a6qgAqogApkpsDlwOda0P8i8OZk4yeAd6b1dwGxHSX2xwUhylnAQ0BcFOKCcRiIC4lFBVRABVQgMwVeDtwFvDZB/xjgp8Bxyc7zgTvTeixjO0rsj3bRPu7y49eUdrumzqUKqIAKqEAGCnwZOBd4TYL+i9M0TWPaacCjaSOWcZFoStzRR/ubgMuaSuA24JLWdrN6ADgYv+c973nb5557rj81MAfMAXNgjRwAftIAdZPlG4GPpwPHgP6OjQF8iwqogAqowHoKpBvnHZauu/JR4PvA08CPgF8Cnx1jekforxdoW6uACqhAKNAV+u2LRHOnH3VfWniQGw9wo7x74UFuPPCNcvbCg9wn93uQK/RNYBVQARVYX4GhoH8mcG+a248LQLyVE+XZ6YIQr2zG/mjXlGvSWzvxyubrm8plS6G/frA9QgVUQAX6hP4yPg9SL/RNXhVQARVYXwGhv75mHqECKqACxSog9IsNnYargAqowPoKCP31NfMIFVABFShWAaFfbOg0XAVUQAXWV0Dor6+ZR6iACqhAsQoI/WJDp+FZK/DNj2xvT/HLWhSNy0EBoZ9DFLShPgWmAH6MaVGBfRQQ+vsI5G4V2EgBob+RbB40vAJCf3iNHWGOCgj9OUa9CJ+FfhFh0sjiFBD6xYVsLgYL/blEWj/HVUDoj6u3o62sgNBfWSobqsAaCgj9NcSy6ZgKCP0x1Xas+Sgg9OcT68I8FfqFBUxzC1FA6BcSqPmZKfTnF3M9HkMBoT+Gyo6xgQJCfwPRPEQF9lVA6O8rkQ2mUUDoT6O7o9augNCvPcLF+if0iw2dhmetgNDPOjxzNq4r9OObt/Gt24eAx4APpW8j/hPwFPBg+v1hqj8GuDF9O/dh4JzWtxTfCjyefrG+Z/FziXNO2wJ8F/oFBGmeJnaFfkD8pETn44F7gPOAgP4lu1D7YuAOII6LdtE+yguBJ9PylLQey6VF6M8zYYvxWugXE6q5GdoV+m0oPxe4H3jVHtC/Bbi0ddAh4NRUF/uastiuqd9ZCv25pWph/gr9wgI2H3P7gP6xaQrnF8C1icpxpx9AjymcvwdOTPW3AxfskBvuAl4JXAm8r1X//lTXqjpyVejPJ0mL9FToFxm2ORjdB/QbGr8AuBv4vXT3HlM4Aft/Bj6QGnWF/oFk8MGtra05xEcfS1VA6Jcauert7hP6wfWAe9y1t8trgIB9lMVpG6d3qk+xmToo9Gca+Pzd7gr9lwBxhx/lOcC3gDemO/2oi7v9G4C/+00T3rDwIDfe/IkSD3LjbZ94eBu/WI+6pcXpnfyTa9YWCv1Zhz9n57tC/xXAA2nu/tHWNM43gUeAqPtM6w2fuAjcDBxO+2M+vylvT69yPgG8ralcthT6OaeVtk3yfdy40FhUYB8FukJ/GZMHrxf6+0TW3dMq4J3+tPo7+lIFhP5SadyhAh0UEPodxPPQIRUQ+kOqa9/zVUDozzf2mXsu9DMPkOYVqoDQLzRw9Zst9OuPsR5OoYDQn0J1x1xBAaG/gkg2UYG1FRD6a0vmAeMoIPTH0dlR5qaA0J9bxIvxV+gXEyoNLUoBoV9UuOZkrNCfU7T1dTwFhP54WjvSWgoI/bXksrEKrKiA0F9RKJuNrYDQH1txx5uHAkJ/HnEu0EuhX2DQNLkABYR+AUGap4lCf55x1+uhFRD6Qyts/xsqIPQ3FM7DVGBPBYT+nvK4czoFhP502jtyzQoI/ZqjW7RvQr/o8Gl8tgoI/WxDM3fDhP7cM0D/h1FA6A+jq712VkDod5bQDrJVYCrwTjlutsHQsFwUEPq5REI7+ldgSvhONXb/KtpjZQoI/coCqjstBaYC75Tjttx3VQV2U6Ar9J8N3As8BDwGfCh9HPcM4J70ofMvACek+hOB2I6Pn8f+01sf07061R8CLmzV77rqN3J3C6d1RygwJXynGvsIAdxQgaMV6Ar9Y4CTEpWPTyA/D/gi8OZU/wngnWn9XUBsR4n9cQGIcla6cMRFIS4Yh4Fj075dF0L/6GBas6DAVOCdctwFCdxUgUUFukK/DeTnAvcDrwJ+ChyXdp4P3JnWYxnbUWJ/tIsLR9zlx68p7XZN3RFLob8YSrePUmBK+E419lEiWKECRyrQB/TjjvxB4BfAtcCL0zRNA+nTgEfTRixf3uxId/TR/ibgslb9bcAlre1m9UAy+ODW1taRnrilAosKTAXeKcdd1MBtFVhQoA/oN0B+AXA3cMGA0G/Gwjv9hUi6ebQCU8J3qrGPVsEaFThCgT6hH0D+APA3Tu8cobEbUykwFXinHHcqrR23GAW6Qv8lQNzhR3kO8C3gjcCXFh7kxgPcKO9eeJAbD3yjnL3wIPdJH+QWk0P5GjolfKcaO99oaFkmCnSF/iuAB4CH07x93OlHOTO9yhmvZsYFIN7KiRKveMZ21MerntGuKdekOf54ZfP1TeWypdM7mWRQzmZMBd4px805HtqWhQJdob+MyYPXC/0s8idvI6aE71Rj5x0RrctAAaGfQRA0YSAFpgLvlOMOJKXd1qOA0K8nlnqyqMCU8B157G/fesV2/D72tUP7/hZlcnteCgj9ecV7Xt6ODN7tCccT+vNK7S7eCv0u6nls3gpMCOGxLwBCP+9UzMk6oZ9TNLSlXwWE/q5TPf2KbG+lKSD0S4uY9q6ugNAX+qtny2xaCv3ZhHqGjgp9oT/DtN/PZaG/n0LuL1cBoS/0y83ewSwX+oNJa8eTKyD0hf7kSZifAUI/v5hoUV8KCH2h31cuVdSP0K8omLqyoIDQF/oLKeHm9rbQNwvqVUDoC/16s3tjz4T+xtJ5YPYKCH2hn32Sjm+g0B9fc0ccSwGhL/THyrWCxhH6BQVLU9dUQOgL/TVTZg7Nhf4cojxXH4W+0J9r7u/ht9DfQxx3Fa6A0Bf6hafwEOYL/SFUtc88FBD6Qj+PTMzKiq7QPw24G/gO8BjwnvSdxA8CPwAeTL+LW99PvDp9Ize+hXthq/4iIOri+7lXtep3XfVziVnlUZ7GCH2hn2dmTmpVV+ifCpyTqHwy8F3gLCCgf+UutI59D6UPpZ+RPoR+LBC/w+lD6SekNtF2aRH6k+ZNGYMLfaFfRqaOamVX6C9C+SvA6/aAftzlx68pdwLnp1+sN2WxXVO/sxT6o+ZJmYMJfaFfZuYOanWf0D8d+B7w/AT9p4GHgU8CpyRa3wRctkNuuA24JP1ubdW/BYi2i+VAMvjg1tbWoMLYeQUKCH2hX0Ea9+1CX9A/CbgPeFOi9MvSlM2zgA8n8MeurtDfuQh4p993KlTYn9AX+hWmdVeX+oD+8UBMzVy+Q+QjV+L/AB5NVYvTNk7vdI2gxy9XQOgL/eXZMds9XaF/DPAp4IYjOU884G3Ke4F/SRtnLzzIfTL9H8FxQKzHw93mQW60XVq8059tzq7ueAXQbz54vuryY187tCvo2/WrC2jLGhXoCv0LgPhTnTF3334989PAI6n+q3DEReCa9KZOvJ75+hbV47XOePsn3uKJNnsWoV9jOvbsk9Df9QLQs8p2V5gCXaG/J5iH3Cn0C8u0KcwV+kJ/irzLfEyhn3mANK+DAkJf6HdIn1oPFfq1Rla/treFvtD3PDhKAaF/lCRWVKOA0Bf61SRzf44I/f60tKfcFBD6Qj+3nMzAHqGfQRA0YSAFhL7QHyi1Su5W6JccPW3fWwGhL/T3zpBZ7hX6swz7TJwW+kJ/Jqm+jptCfx21bFuWAkJf6JeVsaNYK/RHkdlBJlFA6Av9SRIv70GFft7x0bouCgh9od8lfyo9VuhXGljd2vYfZy3542vmxrwVEPrzjn/d3nun751+3Rm+kXdCfyPZPKgIBYS+0C8iUcc1UuiPq7ejjamA0Bf6Y+ZbIWMJ/UICpZkbKCD0hf4GaVP7IUK/9gjP2T+hL/TnnP9LfBf6S4SxugIFhL7QryCN+3ZB6PetqP3lo4DQF/r5ZGM2lnSF/mnA3cB3gMeA96RPJL4Q+DrweFqekurjQ+o3Ak+k7+ee0/qk4ltT+zgm1vcsfi4xmxzK1xChL/Tzzc7JLOsK/VOBBtwnpw+bnwVcB1yVqB3La9N6fPz8DiDgfx5wT6qPi8STQCzjAhHrzYViV/gL/clyppyBhb7QLydbR7O0K/QXgfwV4HXAISAuCFFiGdtRbgEuTeuxaNpFXexrymK7pn5nKfRHy5FyBxL6Qr/c7B3M8j6hfzrwPeD5wM936Pybu/pm+3bggta+u4BXAlcC72vVvz/Vtap+vXogGXxwa2trMFHsuBIFhL7QrySV+3SjL+ifBNwHvClRuoF8A+2fpZWu0G/6wzv9PtOg0r6EvtCvNLW7uNUH9I8H7gQu3yHyM9M2UeX0TpcIeezmCgh9ob959lR7ZFfoxwPZTwE3tIAfq9cvPMiNB7tR3rDwIPfeVB8PcJ9KD2/jAW6sR93S4p1+tTnZn2NCX+j3l03V9NQV+jE/v51ev3wQiF+8ofMiIObr4/XLb7QAHheJm4HDwCNpPr8B+9vTq5zxOufbmsplS6FfTQ4O54jQ3xX6H1vyJ5cX64cLjD1PqUBX6C9j8uD1Qn/KtClkbKEv9AtJ1THNFPpjqu1Y4yog9IX+uBlXxGhCv4gwaeRGCgh9ob9R4tR9kNCvO77z9k7oC/15nwG7ei/0d5XFyioUEPpCv4pE7tcJod+vnvaWkwJCX+jnlI+Z2CL0MwmEZgyggNAX+gOkVeldCv3SI6j9yxUQ+kJ/eXbMdo/Qn23oZ+C40Bf6M0jzdV0U+usqZvtyFBD6Qr+cbB3NUqE/mtQONLoCQl/oj550+Q8o9POPkRZuqoDQF/qb5k7Fxwn9ioM7e9eEvtCf/UlwtABC/2hNrKlFAaEv9GvJ5R79EPo9imlXmSkg9IV+ZimZgzlCP4coaMMwCgh9oT9MZhXdq9AvOnwav6cCQl/o75kg89wp9OcZ93l4LfSF/jwyfS0vhf5actm4KAWEvtAvKmHHMbYr9D8J/Bh4tPV9xA8CP0jfy22+mdvsvjp9B/cQcGFTCVwERF18H/eqVv3SVT+XOE6CFD2K0Bf6RSfwMMZ3hf6rgXN2gf6Vu9D6LOAh4ETgjPRx9GOB+MWH0s8ETkhtou2eRegPkxBV9Sr0hX5VCd2PM12hH2A+fUXox11+/JpyJ3B++sV6UxbbNfVHLIV+PwlQdS9CX+hXneCbOTcU9J8GHgZi+ueUROubgMta5L4NuCT9bm3VvwWItruVA8ngg1tbW5t57FHzUUDoC/35ZPvKng4B/ZelKZtnAR9O4A+A9wH9nQuBd/orx3i+DWcI/W/fesV2X7/tdfWbb6YV5fkQ0N8B88LUz+K0jdM7RaVKgcauC60M2/cF8E36EfoF5vwKJg8B/VNb1H8v8C9p++yFB7lPpv8jOA6I9Xi42zzIjbZ7Fu/0V4ju3JtkCPF1QboJrPs6Zl1b555upfjfFfqfB34I/Ar4PvAO4NPAI2lO/6tA+yJwTXpTJ17PfH2L6hcD3037os2+ReiXkmIT2in0O031CP0Jc3fAobtCf184D9VA6A+YFbV0LfSFfi253KMfQr9HMe0qMwWEvtDPLCVzMEfo5xAFbRhGAaEv9IfJrKJ7FfpFh0/j91RA6Av9PRNknjuF/jzjPg+vhb7Qn0emr+Wl0F9LLhsXpYDQF/pFJew4xgr9cXR2lCkUEPpCf4q8y3xMoZ95gDSvgwJCX+h3SJ9aDxX6tUZWv7bX/sdFGV4k+vrXtZv0s7Z+5lwRCgj9IsKkkRspkCHE1wXpJrDu65h1bd0oRh40ugJCf3TJHXA0BYS+0zujJVs5Awn9cmKlpesqIPSF/ro5M4P2Qn8GQZ6tixlDv68pmCH7cXqnzjNH6NcZV70KBYS+d/qeCUcpIPSPksSKahQQ+kK/mmTuzxGh35+W9pSbAkJf6OeWkxnYI/QzCIImDKSA0Bf6A6VWyd0K/ZKjp+17KyD0hf7eGTLLvUJ/lmGfidNCX+jPJNXXcbMr9D8J/Bh4tPVZxBcCXwceT8tT0r5jgBuBJ9L3c89pHfPW1D6OifV9i59LXCfME7fNGL5TveEz5KuWffW9tjYTp5nDr6ZAV+i/Ggh4t6F/HXBVonYsr03r8fHzO4CA/3nAPak+LhJPArGMC0SsNxeKpfAX+qsFOItWQv+o10f7AvOQ/Qj9LM6e3o3oCv2A8ukL0D8EnJpoHcvYjnILcGlaj0XTLupiX1MW2zX1RyyFfu+5MFyHQl/oD5dd9rymAkNA/+ctOsddfbN9O3BBa99dwCuBK4H3terfn+paVTurB5LBB7e2ttZ01eaTKSD0hf5kyefAiwoMDf2g9c8SsvuA/g79vdNfDGXG20Jf6GecnnMzbQjoN9M2AWind+aWUbv5K/SF/m55Yd0kCgwB/esXHuTGg90ob1h4kHtvqo8HuE+lh7fxADfWo27P4p3+JPmy2aBCX+hvljkeNYACXaH/eeCHwK+A7wPvAF4ExHx9vH75jRbAY37/ZuAw8Eiaz2/A/vb0Kme8zvm2pnKvpdAfIBuG6lLoC/2hcst+11agK/T34vKg+4T+2rGe7gChL/Snyz5HXlBA6C8I4uYACgh9oT9AWtnlZgoI/c1086h1FBD6Qn+dfLHtoAoI/UHltfNfKyD0hb6nQjYKCP1sQlGxIUK/SOiv+icedv5cQ8UpXJNrQr+maObqi9AX+rnm5gztEvozDProLgt9oT960jngMgWE/jJlrO9PAaEv9PvLJnvqqIDQ7yigh6+ggNAX+iukiU3GUUDoj6PzvEcR+kJ/3mdAVt4L/azCUakxQl/oV5raJbol9EuMWmk2C32hX1rOVmyv0K84uNm4JvSFfjbJqCFC3xwYXgGhL/SHzzJHWFEBob+iUDbroIDQF/od0sdD+1VA6Perp73tpoDQF/q75YV1kygg9CeRfWaDCn2hP7OUz9ldoZ9zdGqxTegL/VpyuQI/hH4FQczeBaEv9LNP0vkYOCT0n07fwn2wNUh88Pzr6fu5sYwPoUeJ7+femL6T+zBwTqpfuvBziQUlqdAX+gWla+2mtni8lK+b7gjov3jh4OuAq1JdLK9N6xcDdyT4nwfcs3DcUZtCv6DUFPpCv6B0rd3UsaF/CDg1ETyWsR3lFuDStB6LdrtW9TOrQr+g1BT6Qr+gdK3d1CGh/xRwP3AfcCDh+ufPYPvXUzrN9u3ABa19dwGvbG0ftSr0C0pNoS/0C0rX2k0dEvq/k0j9UuAh4NVAA/kG4j9LK6tCPy4eB+O3tbVVe2zq8U/oC/16srl4T4aEfgP2WH4QuHJh2sbpneLTZ0UHhL7QXzFVbDa8AkNB/3nAyYn6sf5t4CLg+oUHufFgN8obFh7k3pvqly6c3hk+OXobQegL/d6SyY66KjAU9M9MUzoxrfMYcE2i94uAmK9/HPgGEK9wRolXNm8GDqfXPPecz48DhH7X0I94vNAX+iOmm0PtrcBQ0P8Nygf8r9DfO7BZ7RX6Qj+rhJy3MUJ/3vEfx3uhL/THyTRHWUEBob+CSDbpqMBMoP/tW6/YnuNvu4lvxzTx8HEUEPrj6DzvURooVL6cI/DDZ6Ff1ukt9MuKV5nWVg77BnpCv8z0nJvVQn9uEZ/CX6Ff9bRPc9GbIrUcc30FhP76mnnEugoIfaG/bs7YfjAFhP5g0trxjgJCX+jvJIMrUysg9KeOwBzGF/rzgP5UcZ7DOdSjj0K/RzHtaokCU8Fg5HFn/yB3ZL19lrDkfNunWujvI5C7e1BgKhiMPK7Q/8gzr2+OqX0PKTqnLoT+nKI9la9jAmDCseYK/VX93rkz7ztGU+V1oeMK/UIDV5TZfZ/kmfa3Kvzm2k7o53HWCv084jCOFZnCcjAYjOzvXGG+qt+DxXmcs6eaUYR+NaFcwZGRITjYSZ6pH6vCb67tBsuHFVLfJs8oIPSf0aL+tUxhORgMRvZ3rjBf1e/B4lz/mdurh0K/Vzkz72xkCA52kmfqx6rwm2u7wfIh89MuN/OEfm4RGdKeTGE5GAxG9neuMF/V78HiPOQ5U2HfQr/CoC51aWQIDnaSZ+rHqvCba7vB8mFpwrtjNwWE/m6q1FqXKSwHg0FP/s4V0n37PVicaz1fB/IrN+hfBBwCngCu2usTu34jd4OM6AmCg528mdrXN/zm2l+VebPBaTj1ITlB/1jgMHAmcALwEHDWMvAXC/1MwVblCdmT1nOF9JR+F5OPUxN8g/Fzgv75wJ0tyF8NxG/X0hn6PQGhmOTU36P+LsyUUHPsvb8n7Hm1z98x2gD2zSE5Qf8S4NYW4d8C3NTajtUDyeCDwP+21mP76YXtqKvpp39lx7Pm+NXsW41s+ckCVyfbXAX6exkXwam56F/Z0a05fjX7FllXu3+TnVlrTe/sYmXtgdG/XYJeUFXN8avZt0ix2v2b7DQ6DngSOKP1IPfsNaypPTD6t0YyZNi05vjV7FukUu3+TXq6XAx8N73Fc82alsR8f81F/8qObs3xq9m3yLra/Sv7zNJ6FVABFVABFVABFVABFVABFVABFVABFVCB0hX4a+C/gMeA60p3Zon9VwDbwIuX7C+x+voUt4eBfwVeUKITu9i88p8W2eXY3KtOA+4GvpPOt/fkbvCG9sVfC3gAuH3D4z1sQAX+BPgGcGIa46UDjjVV13Gixb9c/u/KoP9nQLzBFeXa9EubxS7W+tMiBXp5KnBOsvvk9BLG0j+dUqB/jcmXA58T+o0ceS2/CPxpXib1bs2XgT9I/wK5pjv9tlB/AXy2XVHoetd/e1Ka218BXlea0fvY+3LgLuC1Qn8fpSba/SDwIeAe4D+AP5rIjqGG/XPgH1Ln8U/fa4X+vwGXDSXiiP12/VfmI5raeajTge8Bz+/cU14dxE3WucBrhP50gYnpm0d3+QUQo/4fgWOAPwaeSuvTWbv+yHv5Fxez30pdlgj9vXxrlIp/nxFz+hHD0stcoH8ScB/wptIDtmD/G4GPpzqhvyBOLpv/DsS8flPiTzW/pNkofPn7wI/TtE4A///SndVvF+5X2/y/BP4TeG67suD1OUzvHJ+eMcW8d23lo8D30zn3I+CXwGdqc7J0f/4K+NvkxO8C/1PJHeNucSnxTn83P5q6eMsl3gKp5SIdfnX90yKNNrku4//GPgXckKuBPdrlnX6PYvbZVXx8Ja7EMc1zf3r40mf/OfVVG/Tja2lxkY7nMvH7RE5id7Cly58W6TDsKIdekF4djtdsm7iFvzUWoV9jVPVJBVRABVRABVRABVRABVRABVRABVRABVRABVRABVRABVRABVRABVRABVRABVRABVRABVRABVRABVRABVRABVRABVRABQZU4P8BHG6sUdv9T/UAAAAASUVORK5CYII=)\n",
        "\n",
        "\n",
        "\n"
      ]
    },
    {
      "cell_type": "code",
      "metadata": {
        "id": "H94XZhSttoAy"
      },
      "source": [
        "import numpy as np\n",
        "feature1 = np.random.normal(loc=1, scale=.5, size=10000)\n",
        "feature2 = np.random.standard_t(df=10, size=10000)"
      ],
      "execution_count": null,
      "outputs": []
    }
  ]
}