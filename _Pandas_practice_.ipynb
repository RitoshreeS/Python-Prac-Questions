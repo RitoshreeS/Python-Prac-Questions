{
  "nbformat": 4,
  "nbformat_minor": 0,
  "metadata": {
    "colab": {
      "provenance": []
    },
    "kernelspec": {
      "name": "python3",
      "display_name": "Python 3"
    },
    "language_info": {
      "name": "python"
    }
  },
  "cells": [
    {
      "cell_type": "markdown",
      "metadata": {
        "id": "WdQKvhRbffug"
      },
      "source": [
        "convert a Panda Series to Python list and vice versa"
      ]
    },
    {
      "cell_type": "code",
      "metadata": {
        "id": "PJUcZK-4fkju",
        "colab": {
          "base_uri": "https://localhost:8080/"
        },
        "outputId": "23188033-3845-4970-d039-f67449a81fcb"
      },
      "source": [
        "import pandas as pd\n",
        "\n",
        "\n",
        "A = [2, 4, 6, 8, 10]\n",
        "B=pd.Series(A)\n",
        "print(\"Python list to Panda series:\")\n",
        "print(B)\n",
        "print(type(B))\n",
        "\n",
        "C=B.tolist()\n",
        "print(\"Panda series to Python list:\")\n",
        "print(C)\n",
        "print(type(C))\n"
      ],
      "execution_count": null,
      "outputs": [
        {
          "output_type": "stream",
          "text": [
            "Python list to Panda series:\n",
            "0     2\n",
            "1     4\n",
            "2     6\n",
            "3     8\n",
            "4    10\n",
            "dtype: int64\n",
            "<class 'pandas.core.series.Series'>\n",
            "Panda series to Python list:\n",
            "[2, 4, 6, 8, 10]\n",
            "<class 'list'>\n"
          ],
          "name": "stdout"
        }
      ]
    },
    {
      "cell_type": "markdown",
      "metadata": {
        "id": "ag0z6vdJgHd7"
      },
      "source": [
        "Extract a series based on some condition from a given series\n",
        "for example extract all numbers less than 30"
      ]
    },
    {
      "cell_type": "code",
      "metadata": {
        "id": "Ez1KAUPtgQC9",
        "colab": {
          "base_uri": "https://localhost:8080/"
        },
        "outputId": "f84aa22f-d566-4024-86ae-22c2ce4ca213"
      },
      "source": [
        "A = pd.Series(x for x in range(25,35))\n",
        "print(\"Original Series:\",A)\n",
        "B = A[A<30]\n",
        "print(\"After Extraction:\",B)"
      ],
      "execution_count": null,
      "outputs": [
        {
          "output_type": "stream",
          "text": [
            "Original Series: 0    25\n",
            "1    26\n",
            "2    27\n",
            "3    28\n",
            "4    29\n",
            "5    30\n",
            "6    31\n",
            "7    32\n",
            "8    33\n",
            "9    34\n",
            "dtype: int64\n",
            "After Extraction: 0    25\n",
            "1    26\n",
            "2    27\n",
            "3    28\n",
            "4    29\n",
            "dtype: int64\n"
          ],
          "name": "stdout"
        }
      ]
    },
    {
      "cell_type": "markdown",
      "metadata": {
        "id": "J29_Dfashkk2"
      },
      "source": [
        "find the positions of numbers that are multiples of 3 of a given series."
      ]
    },
    {
      "cell_type": "code",
      "metadata": {
        "id": "VIIqq_vshlcv",
        "colab": {
          "base_uri": "https://localhost:8080/"
        },
        "outputId": "4f6c5ff3-6dcb-4292-f8c6-f58c47ad4e47"
      },
      "source": [
        "A = pd.Series(x for x in range(20,40))\n",
        "print(\"A:\",A)\n",
        "B=A.loc[A%3==0].index\n",
        "print(\"Index of multiples of 3:\")\n",
        "print(B)"
      ],
      "execution_count": null,
      "outputs": [
        {
          "output_type": "stream",
          "text": [
            "A: 0     20\n",
            "1     21\n",
            "2     22\n",
            "3     23\n",
            "4     24\n",
            "5     25\n",
            "6     26\n",
            "7     27\n",
            "8     28\n",
            "9     29\n",
            "10    30\n",
            "11    31\n",
            "12    32\n",
            "13    33\n",
            "14    34\n",
            "15    35\n",
            "16    36\n",
            "17    37\n",
            "18    38\n",
            "19    39\n",
            "dtype: int64\n",
            "Index of multiples of 3:\n",
            "Int64Index([1, 4, 7, 10, 13, 16, 19], dtype='int64')\n"
          ],
          "name": "stdout"
        }
      ]
    },
    {
      "cell_type": "markdown",
      "metadata": {
        "id": "RqxtfZUJgknB"
      },
      "source": [
        "given two series consisting of some commom items, extract items belonging to first series but not in series"
      ]
    },
    {
      "cell_type": "code",
      "metadata": {
        "id": "TmdXuTg1g3vQ",
        "colab": {
          "base_uri": "https://localhost:8080/"
        },
        "outputId": "c4bb0707-5de1-4f74-9a9f-afaa6208611d"
      },
      "source": [
        "A = pd.Series(x for x in range(10,20))\n",
        "B = pd.Series(x for x in range(15,25))\n",
        "print(\"Common nos. that are in A but not in B : \")\n",
        "A[~A.isin(B)]"
      ],
      "execution_count": null,
      "outputs": [
        {
          "output_type": "stream",
          "text": [
            "Common nos. that are in A but not in B : \n"
          ],
          "name": "stdout"
        },
        {
          "output_type": "execute_result",
          "data": {
            "text/plain": [
              "0    10\n",
              "1    11\n",
              "2    12\n",
              "3    13\n",
              "4    14\n",
              "dtype: int64"
            ]
          },
          "metadata": {},
          "execution_count": 8
        }
      ]
    },
    {
      "cell_type": "markdown",
      "metadata": {
        "id": "0J80FojyhFfx"
      },
      "source": [
        "Compute the minimum, 25th percentile, median, 75th, and maximum of a given series."
      ]
    },
    {
      "cell_type": "code",
      "metadata": {
        "id": "ozbui7UHhEbn",
        "colab": {
          "base_uri": "https://localhost:8080/"
        },
        "outputId": "67dac780-5c0e-4c85-b4cf-e0306a31db1e"
      },
      "source": [
        "import numpy as np\n",
        "A = pd.Series(x for x in range(20,40))\n",
        "print(\"Minimum:\", np.percentile(A,0))\n",
        "print(\"25th percentile:\",np.percentile(A,25))\n",
        "print(\"Median:\",np.percentile(A,50))\n",
        "print(\"75th percentile:\",np.percentile(A,75))\n",
        "print(\"Maximum:\",np.percentile(A,100))\n"
      ],
      "execution_count": null,
      "outputs": [
        {
          "output_type": "stream",
          "text": [
            "Minimum: 20.0\n",
            "25th percentile: 24.75\n",
            "Median: 29.5\n",
            "75th percentile: 34.25\n",
            "Maximum: 39.0\n"
          ],
          "name": "stdout"
        }
      ]
    },
    {
      "cell_type": "markdown",
      "metadata": {
        "id": "NkifiUJZhQ5e"
      },
      "source": [
        "calculate the frequency counts of each unique value of a given series."
      ]
    },
    {
      "cell_type": "code",
      "metadata": {
        "id": "ltKdS6hNhSje",
        "colab": {
          "base_uri": "https://localhost:8080/"
        },
        "outputId": "dbc4d874-3354-4796-9905-c312c2bfb311"
      },
      "source": [
        "A=pd.Series(np.random.randint(1,9,size=15))\n",
        "print(\"A:\",A)\n",
        "print(\"Frequency count:\")\n",
        "print(A.value_counts())"
      ],
      "execution_count": null,
      "outputs": [
        {
          "output_type": "stream",
          "text": [
            "A: 0     1\n",
            "1     5\n",
            "2     7\n",
            "3     2\n",
            "4     7\n",
            "5     7\n",
            "6     2\n",
            "7     2\n",
            "8     8\n",
            "9     6\n",
            "10    5\n",
            "11    7\n",
            "12    5\n",
            "13    4\n",
            "14    2\n",
            "dtype: int64\n",
            "Frequency count:\n",
            "7    4\n",
            "2    4\n",
            "5    3\n",
            "8    1\n",
            "6    1\n",
            "4    1\n",
            "1    1\n",
            "dtype: int64\n"
          ],
          "name": "stdout"
        }
      ]
    },
    {
      "cell_type": "markdown",
      "metadata": {
        "id": "JSpdYZ8De5jM"
      },
      "source": [
        "Convert a given column(taken as input from user) of a DataFrame to a Series."
      ]
    },
    {
      "cell_type": "code",
      "metadata": {
        "id": "RUxbPsUCeOIw",
        "colab": {
          "base_uri": "https://localhost:8080/"
        },
        "outputId": "fb724bc7-de14-4f3f-b239-0f165e888d7a"
      },
      "source": [
        "data = {\"FCB\":[100,20,300,30],\n",
        "        \"PSG\":[39,49,58,59],\n",
        "        \"BSV\":[23,45,34,100]\n",
        "        }\n",
        "\n",
        "A = pd.DataFrame(data)\n",
        "print(\"Column options : \", A.columns)\n",
        "col = input(\"Enter the column name you want to convert to Series : \")\n",
        "B = A[col]\n",
        "print(B)\n",
        "print(type(B))"
      ],
      "execution_count": null,
      "outputs": [
        {
          "output_type": "stream",
          "text": [
            "Column options :  Index(['FCB', 'PSG', 'BSV'], dtype='object')\n",
            "Enter the columns you want to convert to Series : FCB\n",
            "0    100\n",
            "1     20\n",
            "2    300\n",
            "3     30\n",
            "Name: FCB, dtype: int64\n",
            "<class 'pandas.core.series.Series'>\n"
          ],
          "name": "stdout"
        }
      ]
    },
    {
      "cell_type": "markdown",
      "metadata": {
        "id": "R0KrsWDbfPKt"
      },
      "source": [
        "Given a Series of lists convert it to one Series."
      ]
    },
    {
      "cell_type": "code",
      "metadata": {
        "id": "o1UFlzSZfUMs",
        "colab": {
          "base_uri": "https://localhost:8080/"
        },
        "outputId": "bf1a8730-54ab-406b-b56c-39b8f080ec9b"
      },
      "source": [
        "\n",
        "A=pd.Series([[100,20,300,30],[39,49,58,59],[23,45,34,100]])\n",
        "print(\"Series of lists:\")\n",
        "print(A)\n",
        "print(\"In one series:\")\n",
        "print(A.explode(ignore_index=True))"
      ],
      "execution_count": null,
      "outputs": [
        {
          "output_type": "stream",
          "text": [
            "Series of lists:\n",
            "0    [100, 20, 300, 30]\n",
            "1      [39, 49, 58, 59]\n",
            "2     [23, 45, 34, 100]\n",
            "dtype: object\n",
            "In one series:\n",
            "0     100\n",
            "1      20\n",
            "2     300\n",
            "3      30\n",
            "4      39\n",
            "5      49\n",
            "6      58\n",
            "7      59\n",
            "8      23\n",
            "9      45\n",
            "10     34\n",
            "11    100\n",
            "dtype: object\n"
          ],
          "name": "stdout"
        }
      ]
    },
    {
      "cell_type": "markdown",
      "metadata": {
        "id": "LATAD4FKfzWK"
      },
      "source": [
        "given a series consisting of numbers and strings. Add data to it"
      ]
    },
    {
      "cell_type": "code",
      "metadata": {
        "id": "dFYSKn6Kf5OA",
        "colab": {
          "base_uri": "https://localhost:8080/"
        },
        "outputId": "d1250157-aa99-456c-bce8-c069de902c07"
      },
      "source": [
        "A=pd.Series([1,32,3,4,3,'a','g','d','h'])\n",
        "print(\"A:\",A)\n",
        "x=eval(input(\"Enter list to be appended:\"))\n",
        "A=A.append(pd.Series(x),ignore_index=True)\n",
        "print(\"After appending:\",A)"
      ],
      "execution_count": null,
      "outputs": [
        {
          "output_type": "stream",
          "text": [
            "A: 0     1\n",
            "1    32\n",
            "2     3\n",
            "3     4\n",
            "4     3\n",
            "5     a\n",
            "6     g\n",
            "7     d\n",
            "8     h\n",
            "dtype: object\n",
            "Enter list to be appended:2,'d','j',5,6\n",
            "After appending: 0      1\n",
            "1     32\n",
            "2      3\n",
            "3      4\n",
            "4      3\n",
            "5      a\n",
            "6      g\n",
            "7      d\n",
            "8      h\n",
            "9      2\n",
            "10     d\n",
            "11     j\n",
            "12     5\n",
            "13     6\n",
            "dtype: object\n"
          ],
          "name": "stdout"
        }
      ]
    }
  ]
}