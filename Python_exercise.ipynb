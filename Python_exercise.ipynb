{
  "cells": [
    {
      "cell_type": "markdown",
      "metadata": {
        "id": "32Bz7AnTd82F"
      },
      "source": [
        "ASSIGNMENT 1"
      ]
    },
    {
      "cell_type": "markdown",
      "metadata": {
        "id": "1rhkHvlHeeQq"
      },
      "source": [
        "1. WAP to find out if the no. as input is odd or even"
      ]
    },
    {
      "cell_type": "code",
      "execution_count": null,
      "metadata": {
        "colab": {
          "base_uri": "https://localhost:8080/"
        },
        "id": "cHRDFaozU-a6",
        "outputId": "6ee73d80-90f8-4566-b0f5-97115427bf3f"
      },
      "outputs": [
        {
          "name": "stdout",
          "output_type": "stream",
          "text": [
            "Enter the no.:5\n",
            "5  is odd\n"
          ]
        }
      ],
      "source": [
        "n=int(input(\"Enter the no.:\"))\n",
        "if (n%2==0):\n",
        "  print(n,\" is even\")\n",
        "else:\n",
        "  print(n,\" is odd\")"
      ]
    },
    {
      "cell_type": "markdown",
      "metadata": {
        "id": "pFQocf1aeo7H"
      },
      "source": [
        "2. WAP to check if the year entered is a leap year or not"
      ]
    },
    {
      "cell_type": "code",
      "execution_count": null,
      "metadata": {
        "colab": {
          "base_uri": "https://localhost:8080/"
        },
        "id": "KGAirf47e23d",
        "outputId": "3b7d4250-c5a6-44b0-ae0c-b703c55f1da4"
      },
      "outputs": [
        {
          "name": "stdout",
          "output_type": "stream",
          "text": [
            "Enter the year:2012\n",
            "2012  is a leap year\n"
          ]
        }
      ],
      "source": [
        "n=int(input(\"Enter the year:\"))\n",
        "if (n%400==0) and (n%100==0):\n",
        "  print(n,\" is a leap year\")\n",
        "elif (n%4==0) and (n%100!=0):\n",
        "  print(n, \" is a leap year\")\n",
        "else:\n",
        "  print(n,\" is not a leap year\")"
      ]
    },
    {
      "cell_type": "markdown",
      "metadata": {
        "id": "-F1mCyT-e3YH"
      },
      "source": [
        "3. WAP to check if a triangle is valid or not, when the three angles of the triangle are taken as input"
      ]
    },
    {
      "cell_type": "code",
      "execution_count": null,
      "metadata": {
        "colab": {
          "base_uri": "https://localhost:8080/"
        },
        "id": "Ux7JZbHxfIjV",
        "outputId": "53e779d6-9a68-40a9-88b0-1ab4d7d9ee52"
      },
      "outputs": [
        {
          "name": "stdout",
          "output_type": "stream",
          "text": [
            "Angle A:90\n",
            "Angle B:45\n",
            "Angle C:45\n",
            "Triangle is valid\n"
          ]
        }
      ],
      "source": [
        "a=int(input(\"Angle A:\"))\n",
        "b=int(input(\"Angle B:\"))\n",
        "c=int(input(\"Angle C:\"))\n",
        "\n",
        "if (a+b+c)==180:\n",
        "  print(\"Triangle is valid\")\n",
        "else:\n",
        "  print(\"Triangle is invalid\")"
      ]
    },
    {
      "cell_type": "markdown",
      "metadata": {
        "id": "sOuJ2gP3fJJs"
      },
      "source": [
        "4. WAP to find the absolute value of a number taken as input"
      ]
    },
    {
      "cell_type": "code",
      "execution_count": null,
      "metadata": {
        "colab": {
          "base_uri": "https://localhost:8080/"
        },
        "id": "UpuczpoEfVC7",
        "outputId": "e2306a1d-5fc0-4778-ca5a-6243fbc91840"
      },
      "outputs": [
        {
          "name": "stdout",
          "output_type": "stream",
          "text": [
            "Enter the no.:-5\n",
            "Absolute value: 5\n"
          ]
        }
      ],
      "source": [
        "n=int(input(\"Enter the no.:\"))\n",
        "print(\"Absolute value:\" ,abs(n))"
      ]
    },
    {
      "cell_type": "markdown",
      "metadata": {
        "id": "VaHjJyUHfVYs"
      },
      "source": [
        "5. WAP to calculate the area of the circle and rectangle"
      ]
    },
    {
      "cell_type": "code",
      "execution_count": null,
      "metadata": {
        "colab": {
          "base_uri": "https://localhost:8080/"
        },
        "id": "4Gov4cJPqfI5",
        "outputId": "4fcd1634-8796-4146-af98-690c4509293f"
      },
      "outputs": [
        {
          "name": "stdout",
          "output_type": "stream",
          "text": [
            "CIRCLE\n",
            "Enter the radius:2\n",
            "Area of circle:  12.56\n",
            "RECTANGLE\n",
            "Enter the length:2\n",
            "Enter the breadth:3\n",
            "Area of rectangle:  6\n"
          ]
        }
      ],
      "source": [
        "print(\"CIRCLE\")\n",
        "r=float(input(\"Enter the radius:\"))\n",
        "a1=r*r*3.14\n",
        "print(\"Area of circle: \",a1)\n",
        "\n",
        "print(\"RECTANGLE\")\n",
        "l=int(input(\"Enter the length:\"))\n",
        "b=int(input(\"Enter the breadth:\"))\n",
        "a2=l*b\n",
        "print(\"Area of rectangle: \",a2)"
      ]
    },
    {
      "cell_type": "markdown",
      "metadata": {
        "id": "sosSnGtUKRva"
      },
      "source": [
        "ASSIGNMENT 2"
      ]
    },
    {
      "cell_type": "markdown",
      "metadata": {
        "id": "_1jMdplnKW5P"
      },
      "source": [
        "1. WAP that receives p,r,t, and calculates simple interest"
      ]
    },
    {
      "cell_type": "code",
      "execution_count": null,
      "metadata": {
        "colab": {
          "base_uri": "https://localhost:8080/"
        },
        "id": "_7xxd87kLPov",
        "outputId": "16a35658-5a7c-4617-9165-93bada100d0c"
      },
      "outputs": [
        {
          "name": "stdout",
          "output_type": "stream",
          "text": [
            "SIMPLE INTEREST CALCULATION\n",
            "Enter the principle:5000\n",
            "Enter the rate of interest:4\n",
            "Enter the time period:5\n",
            "Simple interest =  1000.0\n"
          ]
        }
      ],
      "source": [
        "print(\"SIMPLE INTEREST CALCULATION\")\n",
        "p=int(input(\"Enter the principle:\"))\n",
        "r=int(input(\"Enter the rate of interest:\"))\n",
        "t=int(input(\"Enter the time period:\"))\n",
        "si=(p*r*t)/100\n",
        "print(\"Simple interest = \",si)"
      ]
    },
    {
      "cell_type": "markdown",
      "metadata": {
        "id": "4W1o9stSKjW-"
      },
      "source": [
        "2. WAP that prints the nos. from 1 to 10\n",
        "\n"
      ]
    },
    {
      "cell_type": "code",
      "execution_count": null,
      "metadata": {
        "colab": {
          "base_uri": "https://localhost:8080/"
        },
        "id": "2YIDH350LQR2",
        "outputId": "1b6eb301-70a3-4381-821c-5ef27568046a"
      },
      "outputs": [
        {
          "name": "stdout",
          "output_type": "stream",
          "text": [
            "1  2  3  4  5  6  7  8  9  10  "
          ]
        }
      ],
      "source": [
        "for i in range(1, 11):\n",
        "    print(i,\" \", end=\"\")"
      ]
    },
    {
      "cell_type": "markdown",
      "metadata": {
        "id": "wtgNO-EfKvkf"
      },
      "source": [
        "3. WAP to calculate the factorial of any\n",
        "number"
      ]
    },
    {
      "cell_type": "code",
      "execution_count": null,
      "metadata": {
        "colab": {
          "base_uri": "https://localhost:8080/"
        },
        "id": "4nqEHVm5kmU_",
        "outputId": "eaec7161-2e6a-4d7e-86d8-19b3db73a1f6"
      },
      "outputs": [
        {
          "name": "stdout",
          "output_type": "stream",
          "text": [
            "Enter the no.:5\n",
            "Factorial:  120\n"
          ]
        }
      ],
      "source": [
        "n=int(input(\"Enter the no.:\"))\n",
        "num = 1\n",
        "for i in range(1, n + 1):\n",
        "  num = num * i\n",
        "\n",
        "print(\"Factorial: \",num)\n",
        ""
      ]
    },
    {
      "cell_type": "code",
      "execution_count": null,
      "metadata": {
        "colab": {
          "base_uri": "https://localhost:8080/"
        },
        "id": "vGhRexYELQ1h",
        "outputId": "fd20f161-c810-4e70-f5a3-26e4e7a2a001"
      },
      "outputs": [
        {
          "name": "stdout",
          "output_type": "stream",
          "text": [
            "Enter the no.:6\n",
            "Number :  6\n",
            "Factorial :  720\n"
          ]
        }
      ],
      "source": [
        "def factorial(n):\n",
        "  if (n==1 or n==0):\n",
        "    return 1\n",
        "  else:\n",
        "    return (n * factorial(n - 1))\n",
        "\n",
        "num = int(input(\"Enter the no.:\"))\n",
        "print(\"Number : \",num)\n",
        "print(\"Factorial : \",factorial(num))"
      ]
    },
    {
      "cell_type": "markdown",
      "metadata": {
        "id": "mFKlVvnJK3AL"
      },
      "source": [
        "4. WAP to print prime nos. from 1 to 300"
      ]
    },
    {
      "cell_type": "code",
      "execution_count": null,
      "metadata": {
        "colab": {
          "base_uri": "https://localhost:8080/"
        },
        "id": "shJGvly_LRcO",
        "outputId": "914f51c7-1fa6-4bca-8b9d-b3e3b5d250a0"
      },
      "outputs": [
        {
          "name": "stdout",
          "output_type": "stream",
          "text": [
            "Prime nos. between 1 to 300:\n",
            "2   3   5   7   11   13   17   19   23   29   31   37   41   43   47   53   59   61   67   71   73   79   83   89   97   101   103   107   109   113   127   131   137   139   149   151   157   163   167   173   179   181   191   193   197   199   211   223   227   229   233   239   241   251   257   263   269   271   277   281   283   293   "
          ]
        }
      ],
      "source": [
        "print(\"Prime nos. between 1 to 300:\")\n",
        "for n in range(1,301):\n",
        "  if n>1:\n",
        "    for i in range (2, n):\n",
        "      if (n % i) == 0:\n",
        "        break\n",
        "    else:\n",
        "      print (n, \" \", end=\" \")"
      ]
    },
    {
      "cell_type": "markdown",
      "metadata": {
        "id": "decHVVAkK74b"
      },
      "source": [
        "5. WAP to print the multiplication table of any no. entered by user"
      ]
    },
    {
      "cell_type": "code",
      "execution_count": null,
      "metadata": {
        "colab": {
          "base_uri": "https://localhost:8080/"
        },
        "id": "MRwN6jM4LSEs",
        "outputId": "0e0254b7-8a23-4af9-e0c5-c15722c7be3e"
      },
      "outputs": [
        {
          "name": "stdout",
          "output_type": "stream",
          "text": [
            "MULTIPLICATION TABLE\n",
            "Enter the no.:5\n",
            "5   *   1 = 5\n",
            "5   *   2 = 10\n",
            "5   *   3 = 15\n",
            "5   *   4 = 20\n",
            "5   *   5 = 25\n",
            "5   *   6 = 30\n",
            "5   *   7 = 35\n",
            "5   *   8 = 40\n",
            "5   *   9 = 45\n",
            "5   *   10 = 50\n"
          ]
        }
      ],
      "source": [
        "print(\"MULTIPLICATION TABLE\")\n",
        "n=int(input(\"Enter the no.:\"))\n",
        "\n",
        "for i in range(1,11):\n",
        "  print(n,\" \",\"*\",\" \",i,\"=\",i*n)"
      ]
    },
    {
      "cell_type": "markdown",
      "metadata": {
        "id": "4ccNeOibLFMi"
      },
      "source": [
        "6. WAP to calculate salary of a person by asking thr user to enter the salary components"
      ]
    },
    {
      "cell_type": "code",
      "execution_count": null,
      "metadata": {
        "colab": {
          "base_uri": "https://localhost:8080/"
        },
        "id": "LAngnrfbLTxd",
        "outputId": "9aed70e3-1e16-4e59-e88f-c27d95e5027a"
      },
      "outputs": [
        {
          "name": "stdout",
          "output_type": "stream",
          "text": [
            "SALARY INFORMATION\n",
            "BASIC SALARY:30000\n",
            "House Rent Allowance: 4500.0\n",
            "Travel Allowance: 2250.0\n",
            "Dearness Allowance: 7500.0\n",
            "Provident Fund: 4500.0\n",
            "Gross Salary:  39750.0\n"
          ]
        }
      ],
      "source": [
        "print(\"SALARY INFORMATION\")\n",
        "b=float(input(\"BASIC SALARY:\"))\n",
        "hra=float(0.15*b)\n",
        "print(\"House Rent Allowance:\",hra)\n",
        "ta=float(0.075*b)\n",
        "print(\"Travel Allowance:\",ta)\n",
        "da=float(0.25*b)\n",
        "print(\"Dearness Allowance:\",da)\n",
        "pf=float(0.12*(b+da))\n",
        "print(\"Provident Fund:\",pf)\n",
        "\n",
        "netpay=float(b+da+hra+ta)\n",
        "gross=float(netpay-pf)\n",
        "print(\"Gross Salary: \",gross)\n"
      ]
    },
    {
      "cell_type": "markdown",
      "metadata": {
        "id": "056smYbccm9x"
      },
      "source": [
        "ASSIGNMENT 3"
      ]
    },
    {
      "cell_type": "markdown",
      "metadata": {
        "id": "soUZ3rvCctbZ"
      },
      "source": [
        "1. WAP to take three integer as input and get their sum and product"
      ]
    },
    {
      "cell_type": "code",
      "execution_count": null,
      "metadata": {
        "colab": {
          "base_uri": "https://localhost:8080/"
        },
        "id": "WrLrlIfOfTc4",
        "outputId": "7a674af5-1b25-40f3-a06e-f1eeb1e62ebb"
      },
      "outputs": [
        {
          "name": "stdout",
          "output_type": "stream",
          "text": [
            "Enter first number: 1\n",
            "Enter second number: 2\n",
            "Enter third number: 3\n",
            "Sum: 6.0\n",
            "Product: 6.0\n"
          ]
        }
      ],
      "source": [
        "def add_num(a,b,c):\n",
        "  sum = a + b + c\n",
        "  return sum\n",
        "\n",
        "def mul_num(a,b,c):\n",
        "  mul= a * b * c\n",
        "  return mul\n",
        "\n",
        "num1 = float(input('Enter first number: '))\n",
        "num2 = float(input('Enter second number: '))\n",
        "num3 = float(input('Enter third number: '))\n",
        "\n",
        "sum_num = add_num(num1, num2, num3)\n",
        "pro_num=  mul_num(num1, num2, num3)\n",
        "\n",
        "print(\"Sum:\", sum_num)\n",
        "print(\"Product:\",pro_num)"
      ]
    },
    {
      "cell_type": "markdown",
      "metadata": {
        "id": "V0JahVRKcuNB"
      },
      "source": [
        "2. Define a function leap and implement it"
      ]
    },
    {
      "cell_type": "code",
      "execution_count": null,
      "metadata": {
        "colab": {
          "base_uri": "https://localhost:8080/"
        },
        "id": "oe5K84tchFPo",
        "outputId": "8f810139-62eb-47f0-c2e6-f4967a354c59"
      },
      "outputs": [
        {
          "name": "stdout",
          "output_type": "stream",
          "text": [
            "Enter the year to check for leap year:2023\n",
            "It is not a leap year\n"
          ]
        }
      ],
      "source": [
        "def leap_year(n):\n",
        "  if ((n%400==0) and (n%100==0)) or ((n%4==0) and (n%100!=0)):\n",
        "    print(\"It is a leap year\")\n",
        "  else:\n",
        "    print(\"It is not a leap year\")\n",
        "\n",
        "n=int(input(\"Enter the year to check for leap year:\"))\n",
        "leap_year(n)"
      ]
    },
    {
      "cell_type": "markdown",
      "metadata": {
        "id": "mhDKUM5-cufx"
      },
      "source": [
        "3. WAF to calculate the largest among\n",
        "three numbers"
      ]
    },
    {
      "cell_type": "code",
      "execution_count": null,
      "metadata": {
        "colab": {
          "base_uri": "https://localhost:8080/"
        },
        "id": "PHYlag7EiqeQ",
        "outputId": "cefd59a1-820f-41dc-9af3-52242470c8f0"
      },
      "outputs": [
        {
          "name": "stdout",
          "output_type": "stream",
          "text": [
            "First no.:1\n",
            "Second no.:2\n",
            "Third no.:3\n",
            "Maximum no.:  3\n"
          ]
        }
      ],
      "source": [
        "def maximum(a, b, c):\n",
        "\n",
        "    if (a >= b) and (a >= c):\n",
        "        largest = a\n",
        "\n",
        "    elif (b >= a) and (b >= c):\n",
        "        largest = b\n",
        "    else:\n",
        "        largest = c\n",
        "\n",
        "    return largest\n",
        "\n",
        "\n",
        "a = int(input(\"First no.:\"))\n",
        "b = int(input(\"Second no.:\"))\n",
        "c = int(input(\"Third no.:\"))\n",
        "print(\"Maximum no.: \",maximum(a, b, c))"
      ]
    },
    {
      "cell_type": "markdown",
      "metadata": {
        "id": "77M3bZTucuxB"
      },
      "source": [
        "4. WAF to calculate the LCM of a few nos."
      ]
    },
    {
      "cell_type": "code",
      "execution_count": null,
      "metadata": {
        "colab": {
          "base_uri": "https://localhost:8080/"
        },
        "id": "ErLtBOv6jRRo",
        "outputId": "bf1c73f6-cfa5-4b75-e19c-9680fedf8e20"
      },
      "outputs": [
        {
          "name": "stdout",
          "output_type": "stream",
          "text": [
            "The LCM of [3, 5, 10, 15, 90, 54] is 15\n"
          ]
        }
      ],
      "source": [
        "def gcd(a, b):\n",
        "  if b == 0:\n",
        "    return a\n",
        "  else:\n",
        "    return gcd(b, a % b)\n",
        "\n",
        "def lcm(numbers):\n",
        "  result = numbers[0]\n",
        "  for i in range(1, len(numbers)):\n",
        "    result = (result * numbers[i]) // gcd(result, numbers[i])\n",
        "    return result\n",
        "\n",
        "numbers = [3, 5, 10, 15,90,54]\n",
        "lcm_of_numbers = lcm(numbers)\n",
        "print(f\"The LCM of {numbers} is {lcm_of_numbers}\")"
      ]
    },
    {
      "cell_type": "markdown",
      "metadata": {
        "id": "wgQTKZGncvBh"
      },
      "source": [
        "5. WAF to check if the number is odd or even"
      ]
    },
    {
      "cell_type": "code",
      "execution_count": null,
      "metadata": {
        "colab": {
          "base_uri": "https://localhost:8080/"
        },
        "id": "LkuV9aldjtdX",
        "outputId": "e3a43684-b258-4782-e8c5-8435a12d6f76"
      },
      "outputs": [
        {
          "name": "stdout",
          "output_type": "stream",
          "text": [
            "Enter the number:2\n",
            "Number is even\n"
          ]
        }
      ],
      "source": [
        "def odd_even(n):\n",
        "  if n%2==0:\n",
        "    print(\"Number is even\")\n",
        "  else:\n",
        "    print(\"Number is odd\")\n",
        "\n",
        "n=int(input(\"Enter the number:\"))\n",
        "odd_even(n)"
      ]
    },
    {
      "cell_type": "markdown",
      "metadata": {
        "id": "Dt0WVoR1cvWZ"
      },
      "source": [
        "5. Write the recursive and non-recursive process to calculate factorial"
      ]
    },
    {
      "cell_type": "code",
      "execution_count": null,
      "metadata": {
        "colab": {
          "base_uri": "https://localhost:8080/"
        },
        "id": "L411krL1juCQ",
        "outputId": "71b6bae0-6b65-44dd-e0f2-7bd9a99c50b5"
      },
      "outputs": [
        {
          "name": "stdout",
          "output_type": "stream",
          "text": [
            "Enter the number:5\n",
            "Recursive factorial:  120\n",
            "Non- Recursive factorial:  120\n"
          ]
        }
      ],
      "source": [
        "def recur(n):\n",
        "  if (n==1 or n==0):\n",
        "    return 1\n",
        "  else:\n",
        "    return (n * recur(n - 1))\n",
        "\n",
        "\n",
        "def non_recur(n):\n",
        "  num = 1\n",
        "  for i in range(1, n + 1):\n",
        "    num = num * i\n",
        "  return num\n",
        "\n",
        "f=int(input(\"Enter the number:\"))\n",
        "print(\"Recursive factorial: \",recur(f))\n",
        "print(\"Non- Recursive factorial: \",non_recur(f))\n",
        "\n"
      ]
    },
    {
      "cell_type": "markdown",
      "metadata": {
        "id": "THHiNiUPwSnT"
      },
      "source": [
        "Global Variable"
      ]
    },
    {
      "cell_type": "code",
      "execution_count": null,
      "metadata": {
        "colab": {
          "base_uri": "https://localhost:8080/"
        },
        "id": "YtMx_VcmwUyz",
        "outputId": "70dd29f2-39f0-4ac5-9a34-98f0a9ce7d8b"
      },
      "outputs": [
        {
          "name": "stdout",
          "output_type": "stream",
          "text": [
            "Radius of circle:4\n",
            "Area:  50.24\n",
            "Perimeter:  25.12\n"
          ]
        }
      ],
      "source": [
        "PI=3.14\n",
        "\n",
        "def area(r):\n",
        "  print(\"Area: \",PI*r*r)\n",
        "\n",
        "def perimeter(r):\n",
        "  print(\"Perimeter: \",2*PI*r)\n",
        "\n",
        "r=int(input(\"Radius of circle:\"))\n",
        "area(r)\n",
        "perimeter(r)"
      ]
    },
    {
      "cell_type": "code",
      "execution_count": null,
      "metadata": {
        "colab": {
          "base_uri": "https://localhost:8080/"
        },
        "id": "dm2V1oMpxwVb",
        "outputId": "5aac3770-7b89-4547-e659-b25c5c1fd6ac"
      },
      "outputs": [
        {
          "data": {
            "text/plain": [
              "3.14"
            ]
          },
          "execution_count": 17,
          "metadata": {},
          "output_type": "execute_result"
        }
      ],
      "source": [
        "PI"
      ]
    },
    {
      "cell_type": "code",
      "execution_count": null,
      "metadata": {
        "colab": {
          "base_uri": "https://localhost:8080/"
        },
        "id": "K7G7ujdIxzPL",
        "outputId": "34215295-24d9-4e41-af87-54230fbc05a5"
      },
      "outputs": [
        {
          "data": {
            "text/plain": [
              "3.14259"
            ]
          },
          "execution_count": 19,
          "metadata": {},
          "output_type": "execute_result"
        }
      ],
      "source": [
        "global PI\n",
        "PI=3.14259\n",
        "PI"
      ]
    },
    {
      "cell_type": "markdown",
      "metadata": {
        "id": "Or2DLsMjcux_"
      },
      "source": [
        "ASSIGNMENT- Strings"
      ]
    },
    {
      "cell_type": "markdown",
      "metadata": {
        "id": "dVbF4UCuWJKi"
      },
      "source": [
        "1. From the string 'BAMBOOZLED', obtain\n",
        "the following output:\n",
        "Ba, ed*2, mboozled*3, bamboo*2"
      ]
    },
    {
      "cell_type": "code",
      "execution_count": null,
      "metadata": {
        "colab": {
          "base_uri": "https://localhost:8080/"
        },
        "id": "B8R35iJPWiJs",
        "outputId": "e333391a-89ed-4560-a79b-c5f444585f9e"
      },
      "outputs": [
        {
          "name": "stdout",
          "output_type": "stream",
          "text": [
            "Ba\n",
            "eded\n",
            "mboozledmboozledmboozled\n",
            "BamboBambo\n"
          ]
        }
      ],
      "source": [
        "A='Bamboozled'\n",
        "print(A[:2])\n",
        "print(A[8:]*2)\n",
        "print(A[2:]*3)\n",
        "print(A[:5]*2)"
      ]
    },
    {
      "cell_type": "markdown",
      "metadata": {
        "id": "wf12KLlQbWKR"
      },
      "source": [
        "2. Find all the occurances of 'T' in the string 'The Terrible Tiger Tore The Towel'. Count them and print and then replace with 't'."
      ]
    },
    {
      "cell_type": "code",
      "execution_count": null,
      "metadata": {
        "colab": {
          "base_uri": "https://localhost:8080/",
          "height": 53
        },
        "id": "6FIFEuwse00d",
        "outputId": "8261975c-1ad8-455b-fbd9-435cd662c47f"
      },
      "outputs": [
        {
          "name": "stdout",
          "output_type": "stream",
          "text": [
            "6\n"
          ]
        },
        {
          "data": {
            "application/vnd.google.colaboratory.intrinsic+json": {
              "type": "string"
            },
            "text/plain": [
              "'the terrible tiger tore the towel'"
            ]
          },
          "execution_count": 12,
          "metadata": {},
          "output_type": "execute_result"
        }
      ],
      "source": [
        "A='The Terrible Tiger Tore The Towel'\n",
        "print(A.count('T'))\n",
        "B=A.replace('T','t')\n",
        "B"
      ]
    },
    {
      "cell_type": "markdown",
      "metadata": {
        "id": "AW5UdMRzhu-G"
      },
      "source": [
        "3. Reverse a string\n",
        "\n",
        "\n"
      ]
    },
    {
      "cell_type": "code",
      "execution_count": null,
      "metadata": {
        "colab": {
          "base_uri": "https://localhost:8080/"
        },
        "id": "RPD4ts0UhzwR",
        "outputId": "b36b3858-481f-4345-cd9a-0e8e2684cfee"
      },
      "outputs": [
        {
          "name": "stdout",
          "output_type": "stream",
          "text": [
            "acilisaB\n"
          ]
        }
      ],
      "source": [
        "C='Basilica'\n",
        "print(C[::-1])"
      ]
    },
    {
      "cell_type": "markdown",
      "metadata": {
        "id": "v-ft4cFQtrH5"
      },
      "source": [
        "4. Check if string is palindrome or not."
      ]
    },
    {
      "cell_type": "code",
      "execution_count": null,
      "metadata": {
        "colab": {
          "base_uri": "https://localhost:8080/"
        },
        "id": "PerT2PIWlJPe",
        "outputId": "784e7222-c284-451d-df42-954d63dc51aa"
      },
      "outputs": [
        {
          "name": "stdout",
          "output_type": "stream",
          "text": [
            "String is a palindrome!\n"
          ]
        }
      ],
      "source": [
        "D='hannah'\n",
        "if D==D[::-1]:\n",
        "  print(\"String is a palindrome!\")\n",
        "else:\n",
        "  print(\"String is not a palindrome!\")"
      ]
    },
    {
      "cell_type": "markdown",
      "metadata": {
        "id": "cYtyeH5EhzJJ"
      },
      "source": [
        "ASSIGNMENT- FILE I/O"
      ]
    },
    {
      "cell_type": "code",
      "execution_count": null,
      "metadata": {
        "colab": {
          "base_uri": "https://localhost:8080/"
        },
        "id": "TES-FQC40Mws",
        "outputId": "fce2bce0-9713-4dcf-91cf-df5c36f315b9"
      },
      "outputs": [
        {
          "name": "stdout",
          "output_type": "stream",
          "text": [
            "Mounted at /content/drive/\n"
          ]
        }
      ],
      "source": [
        "from google.colab import drive\n",
        "drive.mount('/content/drive/')\n",
        "import os\n",
        "os.chdir('/content/drive/My Drive')"
      ]
    },
    {
      "cell_type": "markdown",
      "metadata": {
        "id": "ZGOZ_m4vmWDR"
      },
      "source": [
        "1. WAP to open a file try.txt, add some\n",
        "text into it and close it."
      ]
    },
    {
      "cell_type": "code",
      "execution_count": null,
      "metadata": {
        "id": "6L0jnIMfoBwU"
      },
      "outputs": [],
      "source": [
        " A = open(\"manifest.txt\",'a')\n",
        "A.write(\"Hello World!\\n\")\n",
        "A.write(\"Have a good day!\\n\")\n",
        "A.write(\"How are you doing?\")\n",
        "A.close()"
      ]
    },
    {
      "cell_type": "markdown",
      "metadata": {
        "id": "VpOxben5mqKV"
      },
      "source": [
        "2. WAP to read the above file and print that on the screen"
      ]
    },
    {
      "cell_type": "code",
      "execution_count": null,
      "metadata": {
        "colab": {
          "base_uri": "https://localhost:8080/",
          "height": 36
        },
        "id": "_zO3PyLioCrx",
        "outputId": "535d1272-7e7c-40f7-ddca-8c803f11a15e"
      },
      "outputs": [
        {
          "data": {
            "application/vnd.google.colaboratory.intrinsic+json": {
              "type": "string"
            },
            "text/plain": [
              "'Hello World!\\nHave a good day!\\nHow are you doing?Hello World!\\nHave a good day!\\nHow are you doing?'"
            ]
          },
          "execution_count": 5,
          "metadata": {},
          "output_type": "execute_result"
        }
      ],
      "source": [
        "file=open(\"manifest.txt\",'r')\n",
        "file.read()"
      ]
    },
    {
      "cell_type": "markdown",
      "metadata": {
        "id": "OICb4rjpmxDz"
      },
      "source": [
        "3. WAP that writes four integers to a file called numbers. Go to the following position and report:\n",
        "\n",
        "a> 10 positions from the beginning\n",
        "\n",
        "b> 2 position to the right of current position\n",
        "\n",
        "c> 10 position to the left from the end"
      ]
    },
    {
      "cell_type": "code",
      "execution_count": null,
      "metadata": {
        "colab": {
          "base_uri": "https://localhost:8080/"
        },
        "id": "paCivcD-oD4U",
        "outputId": "d76a4dea-8c6e-499e-fa59-328aa8d65809"
      },
      "outputs": [
        {
          "name": "stdout",
          "output_type": "stream",
          "text": [
            "Position 10 from the beginning: b'0'\n",
            "Position 2 to the right of the current position: b''\n",
            "Position 10 from the end: b'0'\n"
          ]
        }
      ],
      "source": [
        "with open(\"Num.txt\", \"w\") as file:\n",
        "  file.write(\"10 20 30 40\")\n",
        "file.close()\n",
        "file = open(\"Num.txt\", \"rb\")\n",
        "file.seek(10,0)\n",
        "print(\"Position 10 from the beginning:\", file.read(1))\n",
        "file.seek(2, 1)\n",
        "print(\"Position 2 to the right of the current position:\", file.read(1))\n",
        "file.seek(-10, 2)\n",
        "print(\"Position 10 from the end:\", file.read(1))\n",
        "file.close()"
      ]
    },
    {
      "cell_type": "markdown",
      "metadata": {
        "id": "hP2llQL8nLXY"
      },
      "source": [
        "4. WAP to append the contents of one file at the end of another"
      ]
    },
    {
      "cell_type": "code",
      "execution_count": null,
      "metadata": {
        "id": "zzr9WljQoFPT"
      },
      "outputs": [],
      "source": [
        "f1= open('manifest.txt','r')\n",
        "f2=open('flight.txt','a')\n",
        "\n",
        "f2.write(f1.read())\n",
        "\n",
        "#f2.read()\n",
        "\n",
        "f1.close()\n",
        "f2.close()"
      ]
    },
    {
      "cell_type": "code",
      "execution_count": null,
      "metadata": {
        "colab": {
          "base_uri": "https://localhost:8080/",
          "height": 36
        },
        "id": "6co00zQ72Bw-",
        "outputId": "2dba1b32-4180-4fa9-a210-55a987590c1d"
      },
      "outputs": [
        {
          "data": {
            "application/vnd.google.colaboratory.intrinsic+json": {
              "type": "string"
            },
            "text/plain": [
              "'Hello 6E Have a Hello World!Hello 6E Have a Hello World!'"
            ]
          },
          "execution_count": 5,
          "metadata": {},
          "output_type": "execute_result"
        }
      ],
      "source": [
        "f2=open('flight.txt','r')\n",
        "f2.read()\n"
      ]
    },
    {
      "cell_type": "markdown",
      "metadata": {
        "id": "xLs2rPxBnWuG"
      },
      "source": [
        "5. WAP to copy contents of one file to another"
      ]
    },
    {
      "cell_type": "code",
      "execution_count": null,
      "metadata": {
        "id": "FvaDsfYWoG0H"
      },
      "outputs": [],
      "source": [
        "with open('manifest.txt','r') as file1, open('flight.txt','a') as file2:\n",
        "  for i in file1:\n",
        "    file2.write(i)\n",
        "\n"
      ]
    },
    {
      "cell_type": "code",
      "execution_count": null,
      "metadata": {
        "colab": {
          "base_uri": "https://localhost:8080/",
          "height": 53
        },
        "id": "aXuar9vMLgDG",
        "outputId": "e5f685d0-61f1-49de-d255-fdc8220e1883"
      },
      "outputs": [
        {
          "data": {
            "application/vnd.google.colaboratory.intrinsic+json": {
              "type": "string"
            },
            "text/plain": [
              "'Hello 6E Have a Hello World!Hello 6E Have a Hello World!Hello 6E Have a Hello World!Hello 6E Have a Hello World!Hello World!\\nHave a good day!\\nHow are you doing?Hello World!\\nHave a good day!\\nHow are you doing?'"
            ]
          },
          "execution_count": 15,
          "metadata": {},
          "output_type": "execute_result"
        }
      ],
      "source": [
        "file2=open('flight.txt','r')\n",
        "file2.read()"
      ]
    },
    {
      "cell_type": "markdown",
      "metadata": {
        "id": "9ERydQn8neJ7"
      },
      "source": [
        "6. WAP to replace to convert lowercase character with uppercase"
      ]
    },
    {
      "cell_type": "code",
      "execution_count": null,
      "metadata": {
        "colab": {
          "base_uri": "https://localhost:8080/"
        },
        "id": "0L05HfYyoIQb",
        "outputId": "c33bd293-cdfa-4f8d-cac4-c8baa9058669"
      },
      "outputs": [
        {
          "name": "stdout",
          "output_type": "stream",
          "text": [
            "SUNNY WEATHER\n"
          ]
        }
      ],
      "source": [
        "A= \"Sunny Weather\"\n",
        "str = \"\"\n",
        "for char in A:\n",
        "  if char.islower():\n",
        "    str += char.upper()\n",
        "  else:\n",
        "    str += char\n",
        "print(str)"
      ]
    },
    {
      "cell_type": "code",
      "execution_count": null,
      "metadata": {
        "colab": {
          "base_uri": "https://localhost:8080/",
          "height": 53
        },
        "id": "33QY8XL44ai3",
        "outputId": "1167d5f0-deb3-49c8-babc-a07db533a03d"
      },
      "outputs": [
        {
          "data": {
            "application/vnd.google.colaboratory.intrinsic+json": {
              "type": "string"
            },
            "text/plain": [
              "'Hello 6E Have a Hello World!Hello 6E Have a Hello World!Hello 6E Have a Hello World!Hello 6E Have a Hello World!'"
            ]
          },
          "execution_count": 11,
          "metadata": {},
          "output_type": "execute_result"
        }
      ],
      "source": [
        "f2=open('flight.txt','r')\n",
        "f2.read()"
      ]
    },
    {
      "cell_type": "markdown",
      "metadata": {
        "id": "Jwr14u9jnxb8"
      },
      "source": [
        "7. WAP to read a file and display its contents along with the line numbers before each line\n",
        "\n",
        "\n"
      ]
    },
    {
      "cell_type": "code",
      "execution_count": null,
      "metadata": {
        "colab": {
          "base_uri": "https://localhost:8080/"
        },
        "id": "r4mpF8_DoKS8",
        "outputId": "df9b54b5-a3dc-4527-dcdf-55b80333f5ba"
      },
      "outputs": [
        {
          "name": "stdout",
          "output_type": "stream",
          "text": [
            "1: Hello World!\n",
            "2: Have a good day!\n",
            "3: How are you doing?Hello World!\n",
            "4: Have a good day!\n",
            "5: How are you doing?"
          ]
        }
      ],
      "source": [
        "file = open(\"manifest.txt\", \"r\")\n",
        "line_num = 1\n",
        "for line in file:\n",
        "  print(f\"{line_num}: {line}\", end=\"\")\n",
        "  line_num += 1\n",
        "file.close()\n"
      ]
    },
    {
      "cell_type": "markdown",
      "metadata": {
        "id": "nwuFbuHMWEzD"
      },
      "source": [
        "32. Write a program and print the occurrence of each character entered by the user and store them in the dictionary\n",
        "33. Write a python program to create two dictionaries, concatenate them and store in a third dictionary\n",
        "34. Write a program to check whether a given key exists in the dictionary\n",
        "35. Write a program to remove a particular key from dictionary\n",
        "36. Write a program to display the minimum and maximum in a dictionary\n",
        "37. Write a program to reverse a tuple\n",
        "38. Write a program to calculate the product by multiplying all the numbers of a tuple\n",
        "39. Write a program to check if the number exits in the tuple\n",
        "40. Check if two sets have any elements in common. If yes, display the common elements.\n",
        "41. Update set1 by adding items from set2, except common items\n",
        "42. Remove items from set1 that are not common to both set1 and set2\n"
      ]
    },
    {
      "cell_type": "code",
      "execution_count": null,
      "metadata": {
        "colab": {
          "base_uri": "https://localhost:8080/"
        },
        "id": "rOF-GMaaNVRv",
        "outputId": "ca286d38-8015-40ca-d2cd-f860d572793a"
      },
      "outputs": [
        {
          "name": "stdout",
          "output_type": "stream",
          "text": [
            "Count of characters :\n",
            " {'H': 1, 'e': 2, 'l': 2, 'o': 1, ' ': 1, 'S': 1, 'u': 1, 'n': 2, 's': 1, 'h': 1, 'i': 1}\n"
          ]
        }
      ],
      "source": [
        "A = \"Hello Sunshine\"\n",
        "\n",
        "A_dict = {}\n",
        "\n",
        "for i in A:\n",
        "  if i in A_dict:\n",
        "    A_dict[i] += 1\n",
        "  else:\n",
        "    A_dict[i] = 1\n",
        "\n",
        "print(\"Count of characters :\\n \"\n",
        "      + str(A_dict))"
      ]
    },
    {
      "cell_type": "code",
      "execution_count": null,
      "metadata": {
        "colab": {
          "base_uri": "https://localhost:8080/"
        },
        "id": "gqb8w3LmPqpn",
        "outputId": "4e233703-b6d6-4a66-f64e-4ec83217bbb1"
      },
      "outputs": [
        {
          "name": "stdout",
          "output_type": "stream",
          "text": [
            "Concatenated dictionary is:\n",
            "{'A': 1, 'B': 2, 'C': 3}\n",
            "{'A': 1, 'B': 2, 'C': 3}\n"
          ]
        }
      ],
      "source": [
        "d1={'A':1,'B':2}\n",
        "d2={'C':3}\n",
        "d3={}\n",
        "d4={}\n",
        "d3.update(d1)\n",
        "d3.update(d2)\n",
        "d4={**d1,**d2}\n",
        "\n",
        "print(\"Concatenated dictionary is:\")\n",
        "print(d3)\n",
        "print(d4)"
      ]
    },
    {
      "cell_type": "code",
      "execution_count": null,
      "metadata": {
        "colab": {
          "base_uri": "https://localhost:8080/"
        },
        "id": "u9WPotdSQqYN",
        "outputId": "a5944f05-55cd-4e1e-f8e8-ce0c0b79bf63"
      },
      "outputs": [
        {
          "name": "stdout",
          "output_type": "stream",
          "text": [
            "Enter the key:A\n",
            "Key is found!\n"
          ]
        }
      ],
      "source": [
        "d={'A':1,'B':2,'C':3}\n",
        "key=input(\"Enter the key:\")\n",
        "\n",
        "if key in d.keys():\n",
        "  print(\"Key is found!\")\n",
        "else:\n",
        "  print(\"Key is not found!\")"
      ]
    },
    {
      "cell_type": "code",
      "execution_count": null,
      "metadata": {
        "colab": {
          "base_uri": "https://localhost:8080/"
        },
        "id": "GZUMIwGeSpeE",
        "outputId": "00a77dab-a621-47cf-cd82-e3699d2e8f6a"
      },
      "outputs": [
        {
          "name": "stdout",
          "output_type": "stream",
          "text": [
            "Dictionary: {1601: 'RS', 1603: 'SN', 1699: 'SM'}\n"
          ]
        }
      ],
      "source": [
        "dict = {1601:\"RS\", 1602: \"PG\", 1603: \"SN\", 1699:\"SM\"}\n",
        "\n",
        "target_key = 1602\n",
        "\n",
        "dict = { key: value\n",
        "              for key, value\n",
        "              in dict.items()\n",
        "              if key != target_key}\n",
        "print(\"Dictionary:\" , dict)"
      ]
    },
    {
      "cell_type": "code",
      "execution_count": null,
      "metadata": {
        "colab": {
          "base_uri": "https://localhost:8080/"
        },
        "id": "1R9sA0XeT-lD",
        "outputId": "4d0a39a0-cd92-4358-b00e-99117b026ad2"
      },
      "outputs": [
        {
          "name": "stdout",
          "output_type": "stream",
          "text": [
            "Maximum : 89\n",
            "Minimum : 35\n"
          ]
        }
      ],
      "source": [
        "marks={\"m1\":78 , \"m2\":89 , \"m3\":64 , \"m4\":35 , \"m5\":71}\n",
        "\n",
        "v = marks.values()\n",
        "\n",
        "print(\"Maximum :\",max(v))\n",
        "print(\"Minimum :\",min(v))\n"
      ]
    },
    {
      "cell_type": "code",
      "execution_count": null,
      "metadata": {
        "colab": {
          "base_uri": "https://localhost:8080/"
        },
        "id": "SxDAYJd9aKfe",
        "outputId": "1624e426-17a0-41de-df61-3786270ceaf9"
      },
      "outputs": [
        {
          "name": "stdout",
          "output_type": "stream",
          "text": [
            "The reversed tuple is:  (10, 77, 23.4, 'Java', 'Python', 2, 1)\n"
          ]
        }
      ],
      "source": [
        "A= (1, 2, 'Python', 'Java', 23.4, 77, 10)\n",
        "\n",
        "B= A[::-1]\n",
        "print(\"The reversed tuple is: \", B )"
      ]
    },
    {
      "cell_type": "code",
      "execution_count": null,
      "metadata": {
        "colab": {
          "base_uri": "https://localhost:8080/"
        },
        "id": "ZBdzUabPfKS3",
        "outputId": "ea5e3528-3f5e-4260-c2bf-fb44bf04cf3b"
      },
      "outputs": [
        {
          "name": "stdout",
          "output_type": "stream",
          "text": [
            "Original Tuple: \n",
            "(4, 3, 2, 2, -1, 18)\n",
            "Product : -864\n"
          ]
        }
      ],
      "source": [
        "def mutiple_tuple(nums):\n",
        "    temp = list(nums)\n",
        "    product = 1\n",
        "    for x in temp:\n",
        "        product *= x\n",
        "    return product\n",
        "\n",
        "nums = (4, 3, 2, 2, -1, 18)\n",
        "print (\"Original Tuple: \")\n",
        "print(nums)\n",
        "print(\"Product :\",mutiple_tuple(nums))\n",
        "\n"
      ]
    },
    {
      "cell_type": "code",
      "execution_count": null,
      "metadata": {
        "colab": {
          "base_uri": "https://localhost:8080/"
        },
        "id": "ep1GwPueibX2",
        "outputId": "e19a148f-d549-4f05-8d70-0e43ae7b7028"
      },
      "outputs": [
        {
          "name": "stdout",
          "output_type": "stream",
          "text": [
            "Enter element:1\n",
            "True\n"
          ]
        }
      ],
      "source": [
        "A=(1,2,3,4,'c','y')\n",
        "n=int(input(\"Enter element:\"))\n",
        "print(n in A)"
      ]
    },
    {
      "cell_type": "code",
      "execution_count": null,
      "metadata": {
        "colab": {
          "base_uri": "https://localhost:8080/"
        },
        "id": "2if4y9A0QiVv",
        "outputId": "07f6df3f-a3ff-4f12-dedf-607d295f421a"
      },
      "outputs": [
        {
          "name": "stdout",
          "output_type": "stream",
          "text": [
            "The common elements are: {4, 5}\n"
          ]
        }
      ],
      "source": [
        "set1 = {1, 2, 3, 4, 5}\n",
        "set2 = {4, 5, 6, 7, 8}\n",
        "\n",
        "common_elements = set1.intersection(set2)\n",
        "\n",
        "if common_elements:\n",
        "    print(\"The common elements are:\", common_elements)\n",
        "else:\n",
        "    print(\"There are no common elements.\")\n"
      ]
    },
    {
      "cell_type": "code",
      "execution_count": null,
      "metadata": {
        "colab": {
          "base_uri": "https://localhost:8080/"
        },
        "id": "8QIaK5ceRwgv",
        "outputId": "d9fd8934-f3d4-4171-a223-3acb35dbf9c6"
      },
      "outputs": [
        {
          "name": "stdout",
          "output_type": "stream",
          "text": [
            "Updated set1: {1, 2, 3, 4, 5, 6, 7, 8}\n"
          ]
        }
      ],
      "source": [
        "set1 = {1, 2, 3, 4, 5}\n",
        "set2 = {4, 5, 6, 7, 8}\n",
        "\n",
        "set1 = set1.union(set2.difference(set1))\n",
        "\n",
        "print(\"Updated set1:\", set1)\n"
      ]
    },
    {
      "cell_type": "code",
      "execution_count": null,
      "metadata": {
        "colab": {
          "base_uri": "https://localhost:8080/"
        },
        "id": "hvEi_RYhR1uz",
        "outputId": "b3caf04d-feb3-4c11-9c4f-416731b24e29"
      },
      "outputs": [
        {
          "name": "stdout",
          "output_type": "stream",
          "text": [
            "Updated set1: {4, 5}\n"
          ]
        }
      ],
      "source": [
        "set1 = {1, 2, 3, 4, 5}\n",
        "set2 = {4, 5, 6, 7, 8}\n",
        "\n",
        "set1 = set1.intersection(set2)\n",
        "\n",
        "print(\"Updated set1:\", set1)\n"
      ]
    },
    {
      "cell_type": "markdown",
      "metadata": {
        "id": "2XIQ5_GiS9Vl"
      },
      "source": [
        "43. WAP to construct a 3D array of dimensions 4*2*3. Initialize the array to some value. Find the maximum along each axis(K,413)\n",
        "44. Create to program to achieve the following(K,414)\n",
        "   a> Create an array of size\n",
        "   b> Find the memory size of this array and its individual element\n",
        "   c> Create an array b of size 10 with values ranging from 0 to 90 evenly spaced\n",
        "   d> Reverse elements of array b\n",
        "   e> Add arrays a and b and store the result in c\n",
        "\n",
        "45. Declare a matrix 0f 3*3 and calculate its transpose\n",
        "46. Write a menu driven program to Perform all the matrix operations\n",
        "47. Write a program to count all the odd numbers in 1D array\n",
        "48. Write a program to extract all prime numbers from an Array\n",
        "49. Write a program to check if none of the elements is  in the array\n",
        "50. WAP to implement different searching and sorting algorithms\n",
        "51. Create a menu driven program to perform various matrices\n",
        "52. Write a program to determine whether a given string has balanced\n",
        "  parenthesis or not.\n",
        "53. Implement different methods of various data-structures like lists,tuples, sets and dictionary\n",
        "54. Every time a vote is cast the name of the candidate is appended to the data structure. Print the names of candidates who received maximum vote in lexicographical order and if there is a tie print lexicographically smaller name.\n",
        "55. Write a program to compare two files and display total number of lines in a file\n",
        "56. Create Birthday Reminder Application to notify users on start-up of system using file handling and exception handling\n",
        "57. Implement ATM simulation system displaying its operations using object oriented features\n",
        "58. Pre-process and perform different operations on data using NumPy and Pandas Library\n",
        "59. Analyze the sales data and visualize it using different plots\n",
        "60. Create age calculator application using different GUI widgets\n",
        "61. Create a login application using database connectivity operations with proper validations."
      ]
    },
    {
      "cell_type": "code",
      "execution_count": null,
      "metadata": {
        "colab": {
          "base_uri": "https://localhost:8080/"
        },
        "id": "AS0N7wEUjbBQ",
        "outputId": "5cb73080-1c20-453d-eb7d-b59893a33441"
      },
      "outputs": [
        {
          "name": "stdout",
          "output_type": "stream",
          "text": [
            "Original matrix:\n",
            "[[1 2 3]\n",
            " [4 5 6]\n",
            " [7 8 9]]\n",
            "\n",
            "Transpose:\n",
            "[[1 4 7]\n",
            " [2 5 8]\n",
            " [3 6 9]]\n"
          ]
        }
      ],
      "source": [
        "\n",
        "import numpy as np\n",
        "\n",
        "# Declare the 3x3 matrix\n",
        "matrix = np.array([[1, 2, 3],\n",
        "                   [4, 5, 6],\n",
        "                   [7, 8, 9]])\n",
        "\n",
        "# Calculate the transpose\n",
        "transpose = np.transpose(matrix)\n",
        "\n",
        "# Print the original matrix and its transpose\n",
        "print(\"Original matrix:\")\n",
        "print(matrix)\n",
        "print(\"\\nTranspose:\")\n",
        "print(transpose)\n"
      ]
    },
    {
      "cell_type": "code",
      "execution_count": null,
      "metadata": {
        "id": "UbiCWKGKZkis"
      },
      "outputs": [],
      "source": [
        "import numpy as np\n",
        "\n",
        "def add_matrices(matrix1, matrix2):\n",
        "    return np.add(matrix1, matrix2)\n",
        "\n",
        "def subtract_matrices(matrix1, matrix2):\n",
        "    return np.subtract(matrix1, matrix2)\n",
        "\n",
        "def multiply_matrices(matrix1, matrix2):\n",
        "    return np.matmul(matrix1, matrix2)\n",
        "\n",
        "def transpose_matrix(matrix):\n",
        "    return np.transpose(matrix)\n",
        "\n",
        "# Display the menu\n",
        "def display_menu():\n",
        "    print(\"Matrix Operations Menu:\")\n",
        "    print(\"1. Add matrices\")\n",
        "    print(\"2. Subtract matrices\")\n",
        "    print(\"3. Multiply matrices\")\n",
        "    print(\"4. Transpose matrix\")\n",
        "    print(\"5. Exit\")\n",
        "\n",
        "# Get the choice from the user\n",
        "def get_choice():\n",
        "    choice = input(\"Enter your choice (1-5): \")\n",
        "    return choice\n",
        "\n",
        "# Get the matrix from the user\n",
        "def get_matrix():\n",
        "    rows = int(input(\"Enter the number of rows: \"))\n",
        "    cols = int(input(\"Enter the number of columns: \"))\n",
        "\n",
        "    matrix = []\n",
        "    for i in range(rows):\n",
        "        row = []\n",
        "        for j in range(cols):\n",
        "            element = float(input(f\"Enter element at position ({i+1},{j+1}): \"))\n",
        "            row.append(element)\n",
        "        matrix.append(row)\n",
        "\n",
        "    return np.array(matrix)\n",
        "\n",
        "# Perform the matrix operation based on the choice\n",
        "def perform_operation(choice):\n",
        "    if choice == '1':\n",
        "        matrix1 = get_matrix()\n",
        "        matrix2 = get_matrix()\n",
        "        result = add_matrices(matrix1, matrix2)\n",
        "        print(\"Result:\")\n",
        "        print(result)\n",
        "    elif choice == '2':\n",
        "        matrix1 = get_matrix()\n",
        "        matrix2 = get_matrix()\n",
        "        result = subtract_matrices(matrix1, matrix2)\n",
        "        print(\"Result:\")\n",
        "        print(result)\n",
        "    elif choice == '3':\n",
        "        matrix1 = get_matrix()\n",
        "        matrix2 = get_matrix()\n",
        "        result = multiply_matrices(matrix1, matrix2)\n",
        "        print(\"Result:\")\n",
        "        print(result)\n",
        "    elif choice == '4':\n",
        "        matrix = get_matrix()\n",
        "        result = transpose_matrix(matrix)\n",
        "        print(\"Result:\")\n",
        "        print(result)\n",
        "    elif choice == '5':\n",
        "        print(\"Exiting the program...\")\n",
        "        exit()\n",
        "    else:\n",
        "        print(\"Invalid choice. Please try again.\")\n",
        "\n",
        "# Main program loop\n",
        "while True:\n",
        "    display_menu()\n",
        "    choice = get_choice()\n",
        "    perform_operation(choice)\n",
        "    print(\"\\n\")\n",
        "3"
      ]
    },
    {
      "cell_type": "code",
      "execution_count": null,
      "metadata": {
        "colab": {
          "base_uri": "https://localhost:8080/"
        },
        "id": "w12qwjYfSYU6",
        "outputId": "6662c187-5867-4bc4-fbd7-255ef52c4ff0"
      },
      "outputs": [
        {
          "name": "stdout",
          "output_type": "stream",
          "text": [
            "Count of odd numbers: 5\n"
          ]
        }
      ],
      "source": [
        "def count_odd_numbers(arr):\n",
        "    count = 0\n",
        "    for num in arr:\n",
        "        if num % 2 != 0:\n",
        "            count += 1\n",
        "    return count\n",
        "\n",
        "# Example usage\n",
        "array = [1, 2, 3, 4, 5, 6, 7, 8, 9]\n",
        "odd_count = count_odd_numbers(array)\n",
        "print(\"Count of odd numbers:\", odd_count)\n"
      ]
    },
    {
      "cell_type": "code",
      "execution_count": null,
      "metadata": {
        "colab": {
          "base_uri": "https://localhost:8080/"
        },
        "id": "yhxXcwtPbJd0",
        "outputId": "6db3a19a-1324-4623-bdb1-7bd55118cc67"
      },
      "outputs": [
        {
          "name": "stdout",
          "output_type": "stream",
          "text": [
            "Prime numbers: [2, 3, 5, 7]\n"
          ]
        }
      ],
      "source": [
        "def is_prime(num):\n",
        "    if num < 2:\n",
        "        return False\n",
        "    for i in range(2, int(num**0.5) + 1):\n",
        "        if num % i == 0:\n",
        "            return False\n",
        "    return True\n",
        "\n",
        "def extract_prime_numbers(arr):\n",
        "    prime_numbers = []\n",
        "    for num in arr:\n",
        "        if is_prime(num):\n",
        "            prime_numbers.append(num)\n",
        "    return prime_numbers\n",
        "\n",
        "array = [1, 2, 3, 4, 5, 6, 7, 8, 9]\n",
        "prime_numbers = extract_prime_numbers(array)\n",
        "print(\"Prime numbers:\", prime_numbers)\n"
      ]
    },
    {
      "cell_type": "code",
      "execution_count": null,
      "metadata": {
        "colab": {
          "base_uri": "https://localhost:8080/"
        },
        "id": "Qx9fX-vWbsLm",
        "outputId": "2ad1af19-051a-4c6f-a8db-939e7c332678"
      },
      "outputs": [
        {
          "name": "stdout",
          "output_type": "stream",
          "text": [
            "None of the elements is greater than 10: True\n"
          ]
        }
      ],
      "source": [
        "def check_none(arr, condition):\n",
        "    for element in arr:\n",
        "        if condition(element):\n",
        "            return False\n",
        "    return True\n",
        "\n",
        "# Example usage\n",
        "array = [1, 2, 3, 4, 5, 6, 7, 8, 9]\n",
        "none_greater_than_ten = check_none(array, lambda x: x > 10)\n",
        "print(\"None of the elements is greater than 10:\", none_greater_than_ten)\n"
      ]
    },
    {
      "cell_type": "code",
      "execution_count": null,
      "metadata": {
        "id": "0bTp2ICKcTSp"
      },
      "outputs": [],
      "source": [
        "# Searching Algorithms\n",
        "\n",
        "def linear_search(arr, key):\n",
        "    for i, num in enumerate(arr):\n",
        "        if num == key:\n",
        "            return i\n",
        "    return -1\n",
        "\n",
        "def binary_search(arr, key):\n",
        "    low = 0\n",
        "    high = len(arr) - 1\n",
        "\n",
        "    while low <= high:\n",
        "        mid = (low + high) // 2\n",
        "        if arr[mid] == key:\n",
        "            return mid\n",
        "        elif arr[mid] < key:\n",
        "            low = mid + 1\n",
        "        else:\n",
        "            high = mid - 1\n",
        "\n",
        "    return -1\n",
        "\n",
        "# Sorting Algorithms\n",
        "\n",
        "def bubble_sort(arr):\n",
        "    n = len(arr)\n",
        "    for i in range(n):\n",
        "        for j in range(0, n - i - 1):\n",
        "            if arr[j] > arr[j + 1]:\n",
        "                arr[j], arr[j + 1] = arr[j + 1], arr[j]\n",
        "\n",
        "def insertion_sort(arr):\n",
        "    n = len(arr)\n",
        "    for i in range(1, n):\n",
        "        key = arr[i]\n",
        "        j = i - 1\n",
        "        while j >= 0 and arr[j] > key:\n",
        "            arr[j + 1] = arr[j]\n",
        "            j -= 1\n",
        "        arr[j + 1] = key\n",
        "\n",
        "# Display the menu\n",
        "def display_menu():\n",
        "    print(\"Searching and Sorting Algorithms Menu:\")\n",
        "    print(\"1. Linear Search\")\n",
        "    print(\"2. Binary Search\")\n",
        "    print(\"3. Bubble Sort\")\n",
        "    print(\"4. Insertion Sort\")\n",
        "    print(\"5. Exit\")\n",
        "\n",
        "# Get the choice from the user\n",
        "def get_choice():\n",
        "    choice = input(\"Enter your choice (1-5): \")\n",
        "    return choice\n",
        "\n",
        "# Get the array from the user\n",
        "def get_array():\n",
        "    size = int(input(\"Enter the size of the array: \"))\n",
        "    array = []\n",
        "    for i in range(size):\n",
        "        element = int(input(f\"Enter element {i+1}: \"))\n",
        "        array.append(element)\n",
        "    return array\n",
        "\n",
        "# Perform the searching or sorting operation based on the choice\n",
        "def perform_operation(choice):\n",
        "    if choice == '1':\n",
        "        array = get_array()\n",
        "        key = int(input(\"Enter the key to search: \"))\n",
        "        index = linear_search(array, key)\n",
        "        if index != -1:\n",
        "            print(f\"Element {key} found at index {index}\")\n",
        "        else:\n",
        "            print(f\"Element {key} not found in the array\")\n",
        "    elif choice == '2':\n",
        "        array = get_array()\n",
        "        key = int(input(\"Enter the key to search: \"))\n",
        "        index = binary_search(array, key)\n",
        "        if index != -1:\n",
        "            print(f\"Element {key} found at index {index}\")\n",
        "        else:\n",
        "            print(f\"Element {key} not found in the array\")\n",
        "    elif choice == '3':\n",
        "        array = get_array()\n",
        "        bubble_sort(array)\n",
        "        print(\"Sorted array:\", array)\n",
        "    elif choice == '4':\n",
        "        array = get_array()\n",
        "        insertion_sort(array)\n",
        "        print(\"Sorted array:\", array)\n",
        "    elif choice == '5':\n",
        "        print(\"Exiting the program...\")\n",
        "        exit()\n",
        "    else:\n",
        "        print(\"Invalid choice. Please try again.\")\n",
        "\n",
        "# Main program loop\n",
        "while True:\n",
        "    display_menu()\n",
        "    choice = get_choice()\n",
        "    perform_operation(choice)\n",
        "    print(\"\\n\")\n",
        "4"
      ]
    },
    {
      "cell_type": "code",
      "execution_count": null,
      "metadata": {
        "colab": {
          "base_uri": "https://localhost:8080/"
        },
        "id": "4YC_FGCakEbe",
        "outputId": "13b0dd15-b587-4a5b-c4a7-acaad5cb319c"
      },
      "outputs": [
        {
          "name": "stdout",
          "output_type": "stream",
          "text": [
            "Enter a string with parentheses: (4+5{5+6})\n",
            "The string has balanced parentheses.\n"
          ]
        }
      ],
      "source": [
        "def is_balanced_parentheses(string):\n",
        "    stack = []\n",
        "    opening_parentheses = ['(', '[', '{']\n",
        "    closing_parentheses = [')', ']', '}']\n",
        "\n",
        "    for char in string:\n",
        "        if char in opening_parentheses:\n",
        "            stack.append(char)\n",
        "        elif char in closing_parentheses:\n",
        "            if not stack:\n",
        "                return False\n",
        "            top = stack.pop()\n",
        "            if opening_parentheses.index(top) != closing_parentheses.index(char):\n",
        "                return False\n",
        "\n",
        "    return len(stack) == 0\n",
        "\n",
        "# Example usage\n",
        "input_string = input(\"Enter a string with parentheses: \")\n",
        "if is_balanced_parentheses(input_string):\n",
        "    print(\"The string has balanced parentheses.\")\n",
        "else:\n",
        "    print(\"The string does not have balanced parentheses.\")\n"
      ]
    },
    {
      "cell_type": "code",
      "execution_count": null,
      "metadata": {
        "colab": {
          "background_save": true,
          "base_uri": "https://localhost:8080/"
        },
        "id": "GriSyFCfpN5a",
        "outputId": "074e6da5-5f94-4bca-fbea-720580446a63"
      },
      "outputs": [
        {
          "name": "stdout",
          "output_type": "stream",
          "text": [
            "Data Structures Menu:\n",
            "1. List\n",
            "2. Tuple\n",
            "3. Set\n",
            "4. Dictionary\n",
            "5. Exit\n",
            "List Operations:\n",
            "1. Add element\n",
            "2. Remove element\n",
            "3. Display list\n",
            "4. Back to main menu\n",
            "Element added to the list.\n",
            "List Operations:\n",
            "1. Add element\n",
            "2. Remove element\n",
            "3. Display list\n",
            "4. Back to main menu\n",
            "List: ['11']\n",
            "List Operations:\n",
            "1. Add element\n",
            "2. Remove element\n",
            "3. Display list\n",
            "4. Back to main menu\n"
          ]
        }
      ],
      "source": [
        "def display_menu():\n",
        "    print(\"Data Structures Menu:\")\n",
        "    print(\"1. List\")\n",
        "    print(\"2. Tuple\")\n",
        "    print(\"3. Set\")\n",
        "    print(\"4. Dictionary\")\n",
        "    print(\"5. Exit\")\n",
        "\n",
        "def get_choice():\n",
        "    choice = input(\"Enter your choice (1-5): \")\n",
        "    return choice\n",
        "\n",
        "def perform_operation(choice):\n",
        "    if choice == '1':\n",
        "        list_operations()\n",
        "    elif choice == '2':\n",
        "        tuple_operations()\n",
        "    elif choice == '3':\n",
        "        set_operations()\n",
        "    elif choice == '4':\n",
        "        dictionary_operations()\n",
        "    elif choice == '5':\n",
        "        print(\"Exiting the program...\")\n",
        "        exit()\n",
        "    else:\n",
        "        print(\"Invalid choice. Please try again.\")\n",
        "\n",
        "def list_operations():\n",
        "    my_list = []\n",
        "\n",
        "    while True:\n",
        "        print(\"List Operations:\")\n",
        "        print(\"1. Add element\")\n",
        "        print(\"2. Remove element\")\n",
        "        print(\"3. Display list\")\n",
        "        print(\"4. Back to main menu\")\n",
        "\n",
        "        choice = input(\"Enter your choice (1-4): \")\n",
        "\n",
        "        if choice == '1':\n",
        "            element = input(\"Enter the element to add: \")\n",
        "            my_list.append(element)\n",
        "            print(\"Element added to the list.\")\n",
        "        elif choice == '2':\n",
        "            element = input(\"Enter the element to remove: \")\n",
        "            if element in my_list:\n",
        "                my_list.remove(element)\n",
        "                print(\"Element removed from the list.\")\n",
        "            else:\n",
        "                print(\"Element not found in the list.\")\n",
        "        elif choice == '3':\n",
        "            print(\"List:\", my_list)\n",
        "        elif choice == '4':\n",
        "            break\n",
        "        else:\n",
        "            print(\"Invalid choice. Please try again.\")\n",
        "\n",
        "def tuple_operations():\n",
        "    my_tuple = ()\n",
        "\n",
        "    while True:\n",
        "        print(\"Tuple Operations:\")\n",
        "        print(\"1. Add element\")\n",
        "        print(\"2. Display tuple\")\n",
        "        print(\"3. Back to main menu\")\n",
        "\n",
        "        choice = input(\"Enter your choice (1-3): \")\n",
        "\n",
        "        if choice == '1':\n",
        "            element = input(\"Enter the element to add: \")\n",
        "            my_tuple += (element,)\n",
        "            print(\"Element added to the tuple.\")\n",
        "        elif choice == '2':\n",
        "            print(\"Tuple:\", my_tuple)\n",
        "        elif choice == '3':\n",
        "            break\n",
        "        else:\n",
        "            print(\"Invalid choice. Please try again.\")\n",
        "\n",
        "def set_operations():\n",
        "    my_set = set()\n",
        "\n",
        "    while True:\n",
        "        print(\"Set Operations:\")\n",
        "        print(\"1. Add element\")\n",
        "        print(\"2. Remove element\")\n",
        "        print(\"3. Display set\")\n",
        "        print(\"4. Back to main menu\")\n",
        "\n",
        "        choice = input(\"Enter your choice (1-4): \")\n",
        "\n",
        "        if choice == '1':\n",
        "            element = input(\"Enter the element to add: \")\n",
        "            my_set.add(element)\n",
        "            print(\"Element added to the set.\")\n",
        "        elif choice == '2':\n",
        "            element = input(\"Enter the element to remove: \")\n",
        "            if element in my_set:\n",
        "                my_set.remove(element)\n",
        "                print(\"Element removed from the set.\")\n",
        "            else:\n",
        "                print(\"Element not found in the set.\")\n",
        "        elif choice == '3':\n",
        "            print(\"Set:\", my_set)\n",
        "        elif choice == '4':\n",
        "            break\n",
        "        else:\n",
        "            print(\"Invalid choice. Please try again.\")\n",
        "\n",
        "def dictionary_operations():\n",
        "    my_dict = {}\n",
        "\n",
        "    while True:\n",
        "        print(\"Dictionary Operations:\")\n",
        "        print(\"1. Add key-value pair\")\n",
        "        print(\"2. Remove key-value pair\")\n",
        "        print(\"3. Display dictionary\")\n",
        "        print(\"4. Back to main menu\")\n",
        "\n",
        "        choice = input(\"Enter your choice (1-4): \")\n",
        "\n",
        "        if choice == '1':\n",
        "            key = input(\"Enter the key: \")\n",
        "            value = input(\"Enter the value: \")\n",
        "            my_dict[key] = value\n",
        "            print(\"Key-value pair added to the dictionary.\")\n",
        "        elif choice == '2':\n",
        "            key = input(\"Enter the key to remove: \")\n",
        "            if key in my_dict:\n",
        "                del my_dict[key]\n",
        "                print(\"Key-value pair removed from the dictionary.\")\n",
        "            else:\n",
        "                print(\"Key not found in the dictionary.\")\n",
        "        elif choice == '3':\n",
        "            print(\"Dictionary:\", my_dict)\n",
        "        elif choice == '4':\n",
        "            break\n",
        "        else:\n",
        "            print(\"Invalid choice. Please try again.\")\n",
        "\n",
        "# Main program loop\n",
        "while True:\n",
        "    display_menu()\n",
        "    choice = get_choice()\n",
        "    perform_operation(choice)\n",
        "    print(\"\\n\")\n"
      ]
    },
    {
      "cell_type": "code",
      "execution_count": null,
      "metadata": {
        "id": "9BIskn-rp9bP",
        "colab": {
          "base_uri": "https://localhost:8080/"
        },
        "outputId": "586cd26a-8f3e-46a7-9250-d2470c4f9782"
      },
      "outputs": [
        {
          "output_type": "stream",
          "name": "stdout",
          "text": [
            "Enter the candidate's name (or 'done' to finish voting): Ritoshree\n",
            "Enter the candidate's name (or 'done' to finish voting): Payel\n",
            "Enter the candidate's name (or 'done' to finish voting): Subrata\n",
            "Enter the candidate's name (or 'done' to finish voting): done\n",
            "Candidates with maximum votes in lexicographical order:\n",
            "Payel\n",
            "Ritoshree\n",
            "Subrata\n"
          ]
        }
      ],
      "source": [
        "from collections import defaultdict\n",
        "\n",
        "def find_max_votes(candidates):\n",
        "    max_votes = max(candidates.values())\n",
        "    max_vote_candidates = [candidate for candidate, votes in candidates.items() if votes == max_votes]\n",
        "    max_vote_candidates.sort()\n",
        "    return max_vote_candidates[0]\n",
        "\n",
        "def count_votes():\n",
        "    candidates = defaultdict(int)\n",
        "\n",
        "    while True:\n",
        "        vote = input(\"Enter the candidate's name (or 'done' to finish voting): \")\n",
        "        if vote == \"done\":\n",
        "            break\n",
        "        candidates[vote] += 1\n",
        "\n",
        "    if len(candidates) == 0:\n",
        "        print(\"No votes cast.\")\n",
        "    else:\n",
        "        max_vote_candidate = find_max_votes(candidates)\n",
        "        print(\"Candidates with maximum votes in lexicographical order:\")\n",
        "        for candidate, votes in sorted(candidates.items()):\n",
        "            if votes == candidates[max_vote_candidate]:\n",
        "                print(candidate)\n",
        "\n",
        "# Main program\n",
        "count_votes()\n"
      ]
    },
    {
      "cell_type": "code",
      "execution_count": null,
      "metadata": {
        "id": "G0jQ6TJfsNws"
      },
      "outputs": [],
      "source": [
        "def count_lines(filename):\n",
        "    with open(filename, 'r') as file:\n",
        "        lines = file.readlines()\n",
        "    return len(lines)\n",
        "\n",
        "def compare_files(file1, file2):\n",
        "    lines_file1 = count_lines(file1)\n",
        "    lines_file2 = count_lines(file2)\n",
        "\n",
        "    print(f\"Total number of lines in {file1}: {lines_file1}\")\n",
        "    print(f\"Total number of lines in {file2}: {lines_file2}\")\n",
        "\n",
        "    if lines_file1 > lines_file2:\n",
        "        print(f\"{file1} has more lines than {file2}\")\n",
        "    elif lines_file1 < lines_file2:\n",
        "        print(f\"{file2} has more lines than {file1}\")\n",
        "    else:\n",
        "        print(\"Both files have the same number of lines\")\n",
        "\n",
        "# Main program\n",
        "file1 = input(\"Enter the path to the first file: \")\n",
        "file2 = input(\"Enter the path to the second file: \")\n",
        "\n",
        "compare_files(file1, file2)\n"
      ]
    },
    {
      "cell_type": "code",
      "execution_count": null,
      "metadata": {
        "id": "ziKUxfyevErS"
      },
      "outputs": [],
      "source": [
        "import datetime\n",
        "\n",
        "def read_birthdays(filename):\n",
        "    birthdays = []\n",
        "    try:\n",
        "        with open(filename, 'r') as file:\n",
        "            for line in file:\n",
        "                name, date_str = line.strip().split(',')\n",
        "                date = datetime.datetime.strptime(date_str, '%Y-%m-%d').date()\n",
        "                birthdays.append((name, date))\n",
        "    except FileNotFoundError:\n",
        "        print(f\"File '{filename}' not found.\")\n",
        "    except ValueError:\n",
        "        print(f\"Invalid data in file '{filename}'.\")\n",
        "    return birthdays\n",
        "\n",
        "def check_birthdays(birthdays):\n",
        "    today = datetime.date.today()\n",
        "    today_birthdays = []\n",
        "    for name, date in birthdays:\n",
        "        if date.month == today.month and date.day == today.day:\n",
        "            today_birthdays.append(name)\n",
        "    return today_birthdays\n",
        "\n",
        "def display_notification(today_birthdays):\n",
        "    if len(today_birthdays) > 0:\n",
        "        print(\"Today's Birthdays:\")\n",
        "        for name in today_birthdays:\n",
        "            print(f\"- {name}\")\n",
        "    else:\n",
        "        print(\"No birthdays today.\")\n",
        "\n",
        "# Main program\n",
        "filename = input(\"Enter the filename containing birthdays: \")\n",
        "birthdays = read_birthdays(filename)\n",
        "\n",
        "if birthdays:\n",
        "    today_birthdays = check_birthdays(birthdays)\n",
        "    display_notification(today_birthdays)\n"
      ]
    }
  ],
  "metadata": {
    "colab": {
      "provenance": []
    },
    "kernelspec": {
      "display_name": "Python 3",
      "name": "python3"
    },
    "language_info": {
      "name": "python"
    }
  },
  "nbformat": 4,
  "nbformat_minor": 0
}